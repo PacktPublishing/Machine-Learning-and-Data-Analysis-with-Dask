{
 "cells": [
  {
   "cell_type": "code",
   "execution_count": 1,
   "metadata": {},
   "outputs": [],
   "source": [
    "import pandas as pd\n",
    "import numpy as np\n"
   ]
  },
  {
   "cell_type": "code",
   "execution_count": 3,
   "metadata": {},
   "outputs": [
    {
     "ename": "ImportError",
     "evalue": "cannot import name 'makeTimeDataFrame' from 'pandas.testing' (/home/baobob/.conda/envs/packt_dask-r/lib/python3.8/site-packages/pandas/testing.py)",
     "output_type": "error",
     "traceback": [
      "\u001b[0;31m---------------------------------------------------------------------------\u001b[0m",
      "\u001b[0;31mImportError\u001b[0m                               Traceback (most recent call last)",
      "\u001b[0;32m<ipython-input-3-08a35ff95bff>\u001b[0m in \u001b[0;36m<module>\u001b[0;34m\u001b[0m\n\u001b[0;32m----> 1\u001b[0;31m \u001b[0;32mfrom\u001b[0m \u001b[0mpandas\u001b[0m\u001b[0;34m.\u001b[0m\u001b[0mtesting\u001b[0m \u001b[0;32mimport\u001b[0m \u001b[0mmakeTimeDataFrame\u001b[0m\u001b[0;34m\u001b[0m\u001b[0;34m\u001b[0m\u001b[0m\n\u001b[0m",
      "\u001b[0;31mImportError\u001b[0m: cannot import name 'makeTimeDataFrame' from 'pandas.testing' (/home/baobob/.conda/envs/packt_dask-r/lib/python3.8/site-packages/pandas/testing.py)"
     ]
    }
   ],
   "source": [
    "from pandas.testing import makeTimeDataFrame"
   ]
  },
  {
   "cell_type": "code",
   "execution_count": 2,
   "metadata": {},
   "outputs": [
    {
     "name": "stderr",
     "output_type": "stream",
     "text": [
      "/home/baobob/.conda/envs/packt_dask-r/lib/python3.8/site-packages/pandas/util/__init__.py:12: FutureWarning: pandas.util.testing is deprecated. Use the functions in the public API at pandas.testing instead.\n",
      "  import pandas.util.testing\n"
     ]
    },
    {
     "data": {
      "text/html": [
       "<div>\n",
       "<style scoped>\n",
       "    .dataframe tbody tr th:only-of-type {\n",
       "        vertical-align: middle;\n",
       "    }\n",
       "\n",
       "    .dataframe tbody tr th {\n",
       "        vertical-align: top;\n",
       "    }\n",
       "\n",
       "    .dataframe thead th {\n",
       "        text-align: right;\n",
       "    }\n",
       "</style>\n",
       "<table border=\"1\" class=\"dataframe\">\n",
       "  <thead>\n",
       "    <tr style=\"text-align: right;\">\n",
       "      <th></th>\n",
       "      <th>A</th>\n",
       "      <th>B</th>\n",
       "      <th>C</th>\n",
       "      <th>D</th>\n",
       "    </tr>\n",
       "  </thead>\n",
       "  <tbody>\n",
       "    <tr>\n",
       "      <th>2000-01-01</th>\n",
       "      <td>0.583754</td>\n",
       "      <td>-0.472257</td>\n",
       "      <td>0.523622</td>\n",
       "      <td>-0.398847</td>\n",
       "    </tr>\n",
       "    <tr>\n",
       "      <th>2000-01-02</th>\n",
       "      <td>-0.337091</td>\n",
       "      <td>-1.455223</td>\n",
       "      <td>1.188714</td>\n",
       "      <td>0.535376</td>\n",
       "    </tr>\n",
       "    <tr>\n",
       "      <th>2000-01-03</th>\n",
       "      <td>-1.512481</td>\n",
       "      <td>0.495426</td>\n",
       "      <td>1.073857</td>\n",
       "      <td>0.388810</td>\n",
       "    </tr>\n",
       "    <tr>\n",
       "      <th>2000-01-04</th>\n",
       "      <td>0.565471</td>\n",
       "      <td>-0.341516</td>\n",
       "      <td>-0.425208</td>\n",
       "      <td>-0.449151</td>\n",
       "    </tr>\n",
       "    <tr>\n",
       "      <th>2000-01-05</th>\n",
       "      <td>-1.316728</td>\n",
       "      <td>-0.185501</td>\n",
       "      <td>-1.126375</td>\n",
       "      <td>0.999466</td>\n",
       "    </tr>\n",
       "    <tr>\n",
       "      <th>...</th>\n",
       "      <td>...</td>\n",
       "      <td>...</td>\n",
       "      <td>...</td>\n",
       "      <td>...</td>\n",
       "    </tr>\n",
       "    <tr>\n",
       "      <th>2000-06-24</th>\n",
       "      <td>-0.358411</td>\n",
       "      <td>-0.046767</td>\n",
       "      <td>-0.496320</td>\n",
       "      <td>-0.691826</td>\n",
       "    </tr>\n",
       "    <tr>\n",
       "      <th>2000-06-25</th>\n",
       "      <td>0.705564</td>\n",
       "      <td>-0.696304</td>\n",
       "      <td>-0.223273</td>\n",
       "      <td>0.685628</td>\n",
       "    </tr>\n",
       "    <tr>\n",
       "      <th>2000-06-26</th>\n",
       "      <td>0.523313</td>\n",
       "      <td>-1.442376</td>\n",
       "      <td>-1.804297</td>\n",
       "      <td>-0.124155</td>\n",
       "    </tr>\n",
       "    <tr>\n",
       "      <th>2000-06-27</th>\n",
       "      <td>-1.112707</td>\n",
       "      <td>-0.678825</td>\n",
       "      <td>0.148474</td>\n",
       "      <td>-0.900359</td>\n",
       "    </tr>\n",
       "    <tr>\n",
       "      <th>2000-06-28</th>\n",
       "      <td>-0.014985</td>\n",
       "      <td>1.034232</td>\n",
       "      <td>-0.770316</td>\n",
       "      <td>1.478550</td>\n",
       "    </tr>\n",
       "  </tbody>\n",
       "</table>\n",
       "<p>180 rows × 4 columns</p>\n",
       "</div>"
      ],
      "text/plain": [
       "                   A         B         C         D\n",
       "2000-01-01  0.583754 -0.472257  0.523622 -0.398847\n",
       "2000-01-02 -0.337091 -1.455223  1.188714  0.535376\n",
       "2000-01-03 -1.512481  0.495426  1.073857  0.388810\n",
       "2000-01-04  0.565471 -0.341516 -0.425208 -0.449151\n",
       "2000-01-05 -1.316728 -0.185501 -1.126375  0.999466\n",
       "...              ...       ...       ...       ...\n",
       "2000-06-24 -0.358411 -0.046767 -0.496320 -0.691826\n",
       "2000-06-25  0.705564 -0.696304 -0.223273  0.685628\n",
       "2000-06-26  0.523313 -1.442376 -1.804297 -0.124155\n",
       "2000-06-27 -1.112707 -0.678825  0.148474 -0.900359\n",
       "2000-06-28 -0.014985  1.034232 -0.770316  1.478550\n",
       "\n",
       "[180 rows x 4 columns]"
      ]
     },
     "execution_count": 2,
     "metadata": {},
     "output_type": "execute_result"
    }
   ],
   "source": [
    "pd.util.testing.makeTimeDataFrame(nper=180,freq=\"1D\")"
   ]
  },
  {
   "cell_type": "code",
   "execution_count": 3,
   "metadata": {},
   "outputs": [
    {
     "name": "stdout",
     "output_type": "stream",
     "text": [
      "/usr/bin/python: No module named rpy2\n"
     ]
    }
   ],
   "source": [
    "!python -m rpy2.situation"
   ]
  },
  {
   "cell_type": "code",
   "execution_count": 11,
   "metadata": {},
   "outputs": [
    {
     "data": {
      "text/plain": [
       "\u001b[0;31mSignature:\u001b[0m \u001b[0mpd\u001b[0m\u001b[0;34m.\u001b[0m\u001b[0mutil\u001b[0m\u001b[0;34m.\u001b[0m\u001b[0mtesting\u001b[0m\u001b[0;34m.\u001b[0m\u001b[0mmakeTimeDataFrame\u001b[0m\u001b[0;34m(\u001b[0m\u001b[0mnper\u001b[0m\u001b[0;34m=\u001b[0m\u001b[0;32mNone\u001b[0m\u001b[0;34m,\u001b[0m \u001b[0mfreq\u001b[0m\u001b[0;34m=\u001b[0m\u001b[0;34m'B'\u001b[0m\u001b[0;34m)\u001b[0m\u001b[0;34m\u001b[0m\u001b[0;34m\u001b[0m\u001b[0m\n",
       "\u001b[0;31mDocstring:\u001b[0m <no docstring>\n",
       "\u001b[0;31mSource:\u001b[0m   \n",
       "\u001b[0;32mdef\u001b[0m \u001b[0mmakeTimeDataFrame\u001b[0m\u001b[0;34m(\u001b[0m\u001b[0mnper\u001b[0m\u001b[0;34m=\u001b[0m\u001b[0;32mNone\u001b[0m\u001b[0;34m,\u001b[0m \u001b[0mfreq\u001b[0m\u001b[0;34m=\u001b[0m\u001b[0;34m\"B\"\u001b[0m\u001b[0;34m)\u001b[0m\u001b[0;34m:\u001b[0m\u001b[0;34m\u001b[0m\n",
       "\u001b[0;34m\u001b[0m    \u001b[0mdata\u001b[0m \u001b[0;34m=\u001b[0m \u001b[0mgetTimeSeriesData\u001b[0m\u001b[0;34m(\u001b[0m\u001b[0mnper\u001b[0m\u001b[0;34m,\u001b[0m \u001b[0mfreq\u001b[0m\u001b[0;34m)\u001b[0m\u001b[0;34m\u001b[0m\n",
       "\u001b[0;34m\u001b[0m    \u001b[0;32mreturn\u001b[0m \u001b[0mDataFrame\u001b[0m\u001b[0;34m(\u001b[0m\u001b[0mdata\u001b[0m\u001b[0;34m)\u001b[0m\u001b[0;34m\u001b[0m\u001b[0;34m\u001b[0m\u001b[0m\n",
       "\u001b[0;31mFile:\u001b[0m      ~/.conda/envs/packt_dask-r/lib/python3.8/site-packages/pandas/_testing.py\n",
       "\u001b[0;31mType:\u001b[0m      function\n"
      ]
     },
     "metadata": {},
     "output_type": "display_data"
    }
   ],
   "source": [
    "pd.util.testing.makeTimeDataFrame??"
   ]
  },
  {
   "cell_type": "code",
   "execution_count": null,
   "metadata": {},
   "outputs": [],
   "source": []
  }
 ],
 "metadata": {
  "kernelspec": {
   "display_name": "packt_dask-r",
   "language": "python",
   "name": "packt_dask-r"
  },
  "language_info": {
   "codemirror_mode": {
    "name": "ipython",
    "version": 3
   },
   "file_extension": ".py",
   "mimetype": "text/x-python",
   "name": "python",
   "nbconvert_exporter": "python",
   "pygments_lexer": "ipython3",
   "version": "3.8.6"
  }
 },
 "nbformat": 4,
 "nbformat_minor": 4
}
