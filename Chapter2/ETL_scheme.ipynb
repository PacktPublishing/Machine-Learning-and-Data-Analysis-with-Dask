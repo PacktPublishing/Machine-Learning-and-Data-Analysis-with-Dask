{
 "cells": [
  {
   "cell_type": "code",
   "execution_count": 1,
   "metadata": {},
   "outputs": [],
   "source": [
    "import numpy as np\n",
    "import pandas as pd\n",
    "import os\n",
    "fldr_raw = \"data_temp/raw\""
   ]
  },
  {
   "cell_type": "code",
   "execution_count": 2,
   "metadata": {},
   "outputs": [],
   "source": [
    "\n",
    "os.makedirs(fldr_raw, exist_ok=True)\n",
    "\n",
    "n = 30\n",
    "df0 = pd.DataFrame({\n",
    "     'station': ['A0'] * n,\n",
    "     'date': pd.date_range(start='2020-01-01',\n",
    "                           periods=n),\n",
    "     'temperature_avg': np.random.randint(low=10,\n",
    "                                         high=25,\n",
    "                                         size=n),\n",
    "     'extra': [1.0] * n})\n",
    "\n",
    "df0.to_csv(os.path.join(fldr_raw,\n",
    "                        \"file0.csv\"),\n",
    "           index=False)\n",
    "\n",
    "df1 = pd.DataFrame({\n",
    "    'date': pd.date_range(start='2020-01-01',\n",
    "                          periods=n),\n",
    "    'temperature_avg': np.random.uniform(low=5.5,\n",
    "                                         high=33.6,\n",
    "                                         size=n),\n",
    "    'is_cloudy':np.random.choice([True, False],size=n),\n",
    "    'station': ['A1'] * n})\n",
    "\n",
    "df1['temperature_max'] = df1['temperature_avg'].astype('int') + 1\n",
    "\n",
    "df1.to_csv(os.path.join(fldr_raw,\n",
    "                        \"file1.csv\"),\n",
    "           index=False)\n",
    "\n",
    "df2 = pd.DataFrame({\n",
    "    'station': ['A2'] * n,\n",
    "    'date': pd.date_range(start='2020-01-01',\n",
    "                          periods=n),\n",
    "    'temperature_avg': np.random.randint(low=0,\n",
    "                                         high=12,\n",
    "                                         size=n),\n",
    "    'extra': ['Fine'] * n})\n",
    "df2.to_csv(os.path.join(fldr_raw,\n",
    "                        \"file2.csv\"),\n",
    "           index=False)"
   ]
  },
  {
   "cell_type": "code",
   "execution_count": 4,
   "metadata": {},
   "outputs": [],
   "source": [
    "fns = os.listdir(fldr_raw)"
   ]
  },
  {
   "cell_type": "markdown",
   "metadata": {},
   "source": [
    "To do for each file\n",
    "* column names to lowercase\n",
    "* remove leading and trailing spaces from column names\n",
    "* extract dtypes"
   ]
  },
  {
   "cell_type": "code",
   "execution_count": 3,
   "metadata": {},
   "outputs": [],
   "source": [
    "def extract_dtypes(df, name):\n",
    "    dtypes = df.dtypes\\\n",
    "               .astype(str)\\\n",
    "               .to_frame(name=name)\n",
    "    return dtypes"
   ]
  },
  {
   "cell_type": "code",
   "execution_count": 22,
   "metadata": {},
   "outputs": [],
   "source": [
    "# df.columns = [col.lower().lstrip().rstrip()\n",
    "#                   for col in df.columns]"
   ]
  },
  {
   "cell_type": "code",
   "execution_count": 54,
   "metadata": {},
   "outputs": [],
   "source": [
    "fns = os.listdir(fldr_raw)\n",
    "\n",
    "df_types = [] \n",
    "for fn in fns:\n",
    "    df = pd.read_csv(os.path.join(fldr_raw, fn))\n",
    "    df_types.append(extract_dtypes(df, fn))\n",
    "df_types = pd.concat(df_types, axis=1)"
   ]
  },
  {
   "cell_type": "code",
   "execution_count": 55,
   "metadata": {},
   "outputs": [
    {
     "data": {
      "text/html": [
       "<div>\n",
       "<style scoped>\n",
       "    .dataframe tbody tr th:only-of-type {\n",
       "        vertical-align: middle;\n",
       "    }\n",
       "\n",
       "    .dataframe tbody tr th {\n",
       "        vertical-align: top;\n",
       "    }\n",
       "\n",
       "    .dataframe thead th {\n",
       "        text-align: right;\n",
       "    }\n",
       "</style>\n",
       "<table border=\"1\" class=\"dataframe\">\n",
       "  <thead>\n",
       "    <tr style=\"text-align: right;\">\n",
       "      <th></th>\n",
       "      <th>file2.csv</th>\n",
       "      <th>file1.csv</th>\n",
       "      <th>file0.csv</th>\n",
       "    </tr>\n",
       "  </thead>\n",
       "  <tbody>\n",
       "    <tr>\n",
       "      <th>station</th>\n",
       "      <td>object</td>\n",
       "      <td>object</td>\n",
       "      <td>object</td>\n",
       "    </tr>\n",
       "    <tr>\n",
       "      <th>date</th>\n",
       "      <td>object</td>\n",
       "      <td>object</td>\n",
       "      <td>object</td>\n",
       "    </tr>\n",
       "    <tr>\n",
       "      <th>temperature_avg</th>\n",
       "      <td>int64</td>\n",
       "      <td>float64</td>\n",
       "      <td>int64</td>\n",
       "    </tr>\n",
       "    <tr>\n",
       "      <th>extra</th>\n",
       "      <td>object</td>\n",
       "      <td>NaN</td>\n",
       "      <td>float64</td>\n",
       "    </tr>\n",
       "    <tr>\n",
       "      <th>is_cloudy</th>\n",
       "      <td>NaN</td>\n",
       "      <td>bool</td>\n",
       "      <td>NaN</td>\n",
       "    </tr>\n",
       "    <tr>\n",
       "      <th>temperature_max</th>\n",
       "      <td>NaN</td>\n",
       "      <td>int64</td>\n",
       "      <td>NaN</td>\n",
       "    </tr>\n",
       "  </tbody>\n",
       "</table>\n",
       "</div>"
      ],
      "text/plain": [
       "                file2.csv file1.csv file0.csv\n",
       "station            object    object    object\n",
       "date               object    object    object\n",
       "temperature_avg     int64   float64     int64\n",
       "extra              object       NaN   float64\n",
       "is_cloudy             NaN      bool       NaN\n",
       "temperature_max       NaN     int64       NaN"
      ]
     },
     "execution_count": 55,
     "metadata": {},
     "output_type": "execute_result"
    }
   ],
   "source": [
    "df_types"
   ]
  },
  {
   "cell_type": "code",
   "execution_count": 85,
   "metadata": {},
   "outputs": [],
   "source": [
    "def pick_dtype(row):\n",
    "    if row.notnull().all() and (row.nunique() == 1):\n",
    "        return row[0]\n",
    "    else:\n",
    "        types = row[row.notnull()].unique()\n",
    "        if 'object' in row[row.notnull()].unique():\n",
    "            return 'object'\n",
    "        else:\n",
    "            return 'float'"
   ]
  },
  {
   "cell_type": "code",
   "execution_count": 86,
   "metadata": {},
   "outputs": [
    {
     "data": {
      "text/plain": [
       "{'station': 'object',\n",
       " 'date': 'object',\n",
       " 'temperature_avg': 'float64',\n",
       " 'extra': 'object',\n",
       " 'is_cloudy': 'float',\n",
       " 'temperature_max': 'float64'}"
      ]
     },
     "execution_count": 86,
     "metadata": {},
     "output_type": "execute_result"
    }
   ],
   "source": [
    "dtypes_dict = df_types.apply(pick_dtype, axis=1)\\\n",
    "                      .to_dict()\n",
    "dtypes_dict"
   ]
  },
  {
   "cell_type": "code",
   "execution_count": 36,
   "metadata": {},
   "outputs": [
    {
     "data": {
      "text/plain": [
       "True"
      ]
     },
     "execution_count": 36,
     "metadata": {},
     "output_type": "execute_result"
    }
   ],
   "source": [
    "np.issubdtype(\"int8\", np.number)"
   ]
  },
  {
   "cell_type": "code",
   "execution_count": 59,
   "metadata": {},
   "outputs": [],
   "source": [
    "def arrange_schema_2(fn, dtypes_dict, fldr_in, fldr_out,\n",
    "                   dates=None):\n",
    "    df = pd.read_csv(fn)\n",
    "    for k, v in dtypes_dict.items():\n",
    "        if k not in df.columns:\n",
    "            if v == 'object':\n",
    "                df[k] = \"\"\n",
    "            else:\n",
    "                df[k] = np.nan\n",
    "    df = df.astype(dtypes_dict)\n",
    "    if len(df.columns) != len(dtypes_dict):\n",
    "        return None\n",
    "    df = df[dtypes_dict.keys()]\n",
    "    if dates is not None:\n",
    "        if isinstance(dates, str):\n",
    "            df[dates] = pd.to_datetime(df[dates])\n",
    "        if isinstance(dates, (list, np.ndarray)):\n",
    "            for k in dates:\n",
    "                df[k] = pd.to_datetime(df[k])"
   ]
  },
  {
   "cell_type": "code",
   "execution_count": 110,
   "metadata": {},
   "outputs": [],
   "source": [
    "def arrange_schema(fn, dtypes_dict, fldr_in, fldr_out):\n",
    "    os.makedirs(fldr_out, exist_ok=True)\n",
    "    df = pd.read_csv(os.path.join(fldr_in, fn))\n",
    "    for k, v in dtypes_dict.items():\n",
    "        if k not in df.columns:\n",
    "            if v == 'object':\n",
    "                df[k] = \"\"\n",
    "            else:\n",
    "                df[k] = np.nan\n",
    "    df = df.astype(dtypes_dict)\n",
    "    if len(df.columns) != len(dtypes_dict):\n",
    "        return None\n",
    "    df = df[dtypes_dict.keys()]\n",
    "    df.to_parquet(os.path.join(fldr_out, fn.replace(\".csv\", \".parquet\")), index=False)"
   ]
  },
  {
   "cell_type": "code",
   "execution_count": 116,
   "metadata": {},
   "outputs": [],
   "source": [
    "fldr_out = \"data_temp/processed\"\n",
    "for fn in fns:\n",
    "    df = arrange_schema(fn, dtypes_dict, fldr_raw, fldr_out)"
   ]
  },
  {
   "cell_type": "code",
   "execution_count": 112,
   "metadata": {},
   "outputs": [],
   "source": [
    "import shutil"
   ]
  },
  {
   "cell_type": "code",
   "execution_count": 115,
   "metadata": {},
   "outputs": [
    {
     "ename": "FileNotFoundError",
     "evalue": "[Errno 2] No such file or directory: 'data_temp/processed'",
     "output_type": "error",
     "traceback": [
      "\u001b[0;31m---------------------------------------------------------------------------\u001b[0m",
      "\u001b[0;31mFileNotFoundError\u001b[0m                         Traceback (most recent call last)",
      "\u001b[0;32m<ipython-input-115-28bf2ee69b78>\u001b[0m in \u001b[0;36m<module>\u001b[0;34m\u001b[0m\n\u001b[0;32m----> 1\u001b[0;31m \u001b[0mshutil\u001b[0m\u001b[0;34m.\u001b[0m\u001b[0mrmtree\u001b[0m\u001b[0;34m(\u001b[0m\u001b[0mfldr_out\u001b[0m\u001b[0;34m)\u001b[0m\u001b[0;34m\u001b[0m\u001b[0;34m\u001b[0m\u001b[0m\n\u001b[0m",
      "\u001b[0;32m~/.conda/envs/packt_dask/lib/python3.8/shutil.py\u001b[0m in \u001b[0;36mrmtree\u001b[0;34m(path, ignore_errors, onerror)\u001b[0m\n\u001b[1;32m    704\u001b[0m             \u001b[0morig_st\u001b[0m \u001b[0;34m=\u001b[0m \u001b[0mos\u001b[0m\u001b[0;34m.\u001b[0m\u001b[0mlstat\u001b[0m\u001b[0;34m(\u001b[0m\u001b[0mpath\u001b[0m\u001b[0;34m)\u001b[0m\u001b[0;34m\u001b[0m\u001b[0;34m\u001b[0m\u001b[0m\n\u001b[1;32m    705\u001b[0m         \u001b[0;32mexcept\u001b[0m \u001b[0mException\u001b[0m\u001b[0;34m:\u001b[0m\u001b[0;34m\u001b[0m\u001b[0;34m\u001b[0m\u001b[0m\n\u001b[0;32m--> 706\u001b[0;31m             \u001b[0monerror\u001b[0m\u001b[0;34m(\u001b[0m\u001b[0mos\u001b[0m\u001b[0;34m.\u001b[0m\u001b[0mlstat\u001b[0m\u001b[0;34m,\u001b[0m \u001b[0mpath\u001b[0m\u001b[0;34m,\u001b[0m \u001b[0msys\u001b[0m\u001b[0;34m.\u001b[0m\u001b[0mexc_info\u001b[0m\u001b[0;34m(\u001b[0m\u001b[0;34m)\u001b[0m\u001b[0;34m)\u001b[0m\u001b[0;34m\u001b[0m\u001b[0;34m\u001b[0m\u001b[0m\n\u001b[0m\u001b[1;32m    707\u001b[0m             \u001b[0;32mreturn\u001b[0m\u001b[0;34m\u001b[0m\u001b[0;34m\u001b[0m\u001b[0m\n\u001b[1;32m    708\u001b[0m         \u001b[0;32mtry\u001b[0m\u001b[0;34m:\u001b[0m\u001b[0;34m\u001b[0m\u001b[0;34m\u001b[0m\u001b[0m\n",
      "\u001b[0;32m~/.conda/envs/packt_dask/lib/python3.8/shutil.py\u001b[0m in \u001b[0;36mrmtree\u001b[0;34m(path, ignore_errors, onerror)\u001b[0m\n\u001b[1;32m    702\u001b[0m         \u001b[0;31m# lstat()/open()/fstat() trick.\u001b[0m\u001b[0;34m\u001b[0m\u001b[0;34m\u001b[0m\u001b[0;34m\u001b[0m\u001b[0m\n\u001b[1;32m    703\u001b[0m         \u001b[0;32mtry\u001b[0m\u001b[0;34m:\u001b[0m\u001b[0;34m\u001b[0m\u001b[0;34m\u001b[0m\u001b[0m\n\u001b[0;32m--> 704\u001b[0;31m             \u001b[0morig_st\u001b[0m \u001b[0;34m=\u001b[0m \u001b[0mos\u001b[0m\u001b[0;34m.\u001b[0m\u001b[0mlstat\u001b[0m\u001b[0;34m(\u001b[0m\u001b[0mpath\u001b[0m\u001b[0;34m)\u001b[0m\u001b[0;34m\u001b[0m\u001b[0;34m\u001b[0m\u001b[0m\n\u001b[0m\u001b[1;32m    705\u001b[0m         \u001b[0;32mexcept\u001b[0m \u001b[0mException\u001b[0m\u001b[0;34m:\u001b[0m\u001b[0;34m\u001b[0m\u001b[0;34m\u001b[0m\u001b[0m\n\u001b[1;32m    706\u001b[0m             \u001b[0monerror\u001b[0m\u001b[0;34m(\u001b[0m\u001b[0mos\u001b[0m\u001b[0;34m.\u001b[0m\u001b[0mlstat\u001b[0m\u001b[0;34m,\u001b[0m \u001b[0mpath\u001b[0m\u001b[0;34m,\u001b[0m \u001b[0msys\u001b[0m\u001b[0;34m.\u001b[0m\u001b[0mexc_info\u001b[0m\u001b[0;34m(\u001b[0m\u001b[0;34m)\u001b[0m\u001b[0;34m)\u001b[0m\u001b[0;34m\u001b[0m\u001b[0;34m\u001b[0m\u001b[0m\n",
      "\u001b[0;31mFileNotFoundError\u001b[0m: [Errno 2] No such file or directory: 'data_temp/processed'"
     ]
    }
   ],
   "source": [
    "shutil.rmtree(fldr_out)"
   ]
  },
  {
   "cell_type": "code",
   "execution_count": 117,
   "metadata": {},
   "outputs": [],
   "source": [
    "fns = os.listdir(fldr_out)\n",
    "\n",
    "df_types = [] \n",
    "for fn in fns:\n",
    "    df = pd.read_parquet(os.path.join(fldr_out, fn))\n",
    "    df_types.append(extract_dtypes(df, fn))\n",
    "df_types = pd.concat(df_types, axis=1)"
   ]
  },
  {
   "cell_type": "code",
   "execution_count": 118,
   "metadata": {},
   "outputs": [
    {
     "data": {
      "text/html": [
       "<div>\n",
       "<style scoped>\n",
       "    .dataframe tbody tr th:only-of-type {\n",
       "        vertical-align: middle;\n",
       "    }\n",
       "\n",
       "    .dataframe tbody tr th {\n",
       "        vertical-align: top;\n",
       "    }\n",
       "\n",
       "    .dataframe thead th {\n",
       "        text-align: right;\n",
       "    }\n",
       "</style>\n",
       "<table border=\"1\" class=\"dataframe\">\n",
       "  <thead>\n",
       "    <tr style=\"text-align: right;\">\n",
       "      <th></th>\n",
       "      <th>file0.parquet</th>\n",
       "      <th>file2.parquet</th>\n",
       "      <th>file1.parquet</th>\n",
       "    </tr>\n",
       "  </thead>\n",
       "  <tbody>\n",
       "    <tr>\n",
       "      <th>station</th>\n",
       "      <td>object</td>\n",
       "      <td>object</td>\n",
       "      <td>object</td>\n",
       "    </tr>\n",
       "    <tr>\n",
       "      <th>date</th>\n",
       "      <td>object</td>\n",
       "      <td>object</td>\n",
       "      <td>object</td>\n",
       "    </tr>\n",
       "    <tr>\n",
       "      <th>temperature_avg</th>\n",
       "      <td>float64</td>\n",
       "      <td>float64</td>\n",
       "      <td>float64</td>\n",
       "    </tr>\n",
       "    <tr>\n",
       "      <th>extra</th>\n",
       "      <td>float64</td>\n",
       "      <td>object</td>\n",
       "      <td>object</td>\n",
       "    </tr>\n",
       "    <tr>\n",
       "      <th>is_cloudy</th>\n",
       "      <td>float64</td>\n",
       "      <td>float64</td>\n",
       "      <td>float64</td>\n",
       "    </tr>\n",
       "    <tr>\n",
       "      <th>temperature_max</th>\n",
       "      <td>float64</td>\n",
       "      <td>float64</td>\n",
       "      <td>float64</td>\n",
       "    </tr>\n",
       "  </tbody>\n",
       "</table>\n",
       "</div>"
      ],
      "text/plain": [
       "                file0.parquet file2.parquet file1.parquet\n",
       "station                object        object        object\n",
       "date                   object        object        object\n",
       "temperature_avg       float64       float64       float64\n",
       "extra                 float64        object        object\n",
       "is_cloudy             float64       float64       float64\n",
       "temperature_max       float64       float64       float64"
      ]
     },
     "execution_count": 118,
     "metadata": {},
     "output_type": "execute_result"
    }
   ],
   "source": [
    "df_types"
   ]
  },
  {
   "cell_type": "code",
   "execution_count": 1,
   "metadata": {},
   "outputs": [],
   "source": [
    "import pandas as pd"
   ]
  },
  {
   "cell_type": "code",
   "execution_count": 2,
   "metadata": {},
   "outputs": [],
   "source": [
    "df = pd.read_parquet(\"/home/baobob/Downloads/dtypes.parquet\")"
   ]
  },
  {
   "cell_type": "code",
   "execution_count": 5,
   "metadata": {},
   "outputs": [
    {
     "data": {
      "text/plain": [
       "{'sku_cadena': 'object',\n",
       " 'codigo_local_cadena': 'object',\n",
       " 'fecha': 'datetime64[ns]',\n",
       " 'yhat': 'float64',\n",
       " 'yhat_lower': 'float64',\n",
       " 'z_mean': 'float64',\n",
       " 'z_std': 'float64',\n",
       " 'ts_length': 'int64',\n",
       " 'dia': 'object',\n",
       " 'dia_mean': 'float64',\n",
       " 'dia_std': 'float64',\n",
       " 'venta_unidades_promedio': 'float64',\n",
       " 'venta_clp_promedio': 'float64',\n",
       " 'clust': 'float64',\n",
       " 'timestamp': 'datetime64[ns]',\n",
       " 'id_proceso': 'object'}"
      ]
     },
     "execution_count": 5,
     "metadata": {},
     "output_type": "execute_result"
    }
   ],
   "source": [
    "df.to_dict()['dtypes']"
   ]
  },
  {
   "cell_type": "code",
   "execution_count": null,
   "metadata": {},
   "outputs": [],
   "source": []
  }
 ],
 "metadata": {
  "kernelspec": {
   "display_name": "packt_dask",
   "language": "python",
   "name": "packt_dask"
  },
  "language_info": {
   "codemirror_mode": {
    "name": "ipython",
    "version": 3
   },
   "file_extension": ".py",
   "mimetype": "text/x-python",
   "name": "python",
   "nbconvert_exporter": "python",
   "pygments_lexer": "ipython3",
   "version": "3.8.6"
  }
 },
 "nbformat": 4,
 "nbformat_minor": 4
}
