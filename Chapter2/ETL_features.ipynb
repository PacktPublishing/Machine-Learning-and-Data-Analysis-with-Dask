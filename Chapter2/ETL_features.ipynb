{
 "cells": [
  {
   "cell_type": "code",
   "execution_count": 1,
   "metadata": {},
   "outputs": [],
   "source": [
    "import holidays\n",
    "import pandas as pd\n",
    "import os"
   ]
  },
  {
   "cell_type": "code",
   "execution_count": 2,
   "metadata": {},
   "outputs": [],
   "source": [
    "def recursive_get_files(path):\n",
    "    fns = []\n",
    "    for (dirpath, dirnames, filenames) in os.walk(path):\n",
    "        if len(filenames) > 0:\n",
    "            fns += [os.path.join(dirpath, fn) for fn in filenames]\n",
    "    return fns"
   ]
  },
  {
   "cell_type": "code",
   "execution_count": 3,
   "metadata": {},
   "outputs": [],
   "source": [
    "fldr_in = \"nyctaxi/part_parquet_stage1/\"\n",
    "\n",
    "fns = recursive_get_files(fldr_in)\n",
    "fns = [fn for fn in fns if fn.endswith(\".parquet\")]"
   ]
  },
  {
   "cell_type": "code",
   "execution_count": 4,
   "metadata": {},
   "outputs": [
    {
     "data": {
      "text/plain": [
       "599"
      ]
     },
     "execution_count": 4,
     "metadata": {},
     "output_type": "execute_result"
    }
   ],
   "source": [
    "len(fns)"
   ]
  },
  {
   "cell_type": "code",
   "execution_count": 5,
   "metadata": {},
   "outputs": [],
   "source": [
    "fn = fns[0]"
   ]
  },
  {
   "cell_type": "code",
   "execution_count": 6,
   "metadata": {},
   "outputs": [
    {
     "data": {
      "text/html": [
       "<div>\n",
       "<style scoped>\n",
       "    .dataframe tbody tr th:only-of-type {\n",
       "        vertical-align: middle;\n",
       "    }\n",
       "\n",
       "    .dataframe tbody tr th {\n",
       "        vertical-align: top;\n",
       "    }\n",
       "\n",
       "    .dataframe thead th {\n",
       "        text-align: right;\n",
       "    }\n",
       "</style>\n",
       "<table border=\"1\" class=\"dataframe\">\n",
       "  <thead>\n",
       "    <tr style=\"text-align: right;\">\n",
       "      <th></th>\n",
       "      <th>VendorID</th>\n",
       "      <th>tpep_pickup_datetime</th>\n",
       "      <th>tpep_dropoff_datetime</th>\n",
       "      <th>passenger_count</th>\n",
       "      <th>trip_distance</th>\n",
       "      <th>pickup_longitude</th>\n",
       "      <th>pickup_latitude</th>\n",
       "      <th>RatecodeID</th>\n",
       "      <th>store_and_fwd_flag</th>\n",
       "      <th>dropoff_longitude</th>\n",
       "      <th>...</th>\n",
       "      <th>fare_amount</th>\n",
       "      <th>extra</th>\n",
       "      <th>mta_tax</th>\n",
       "      <th>tip_amount</th>\n",
       "      <th>tolls_amount</th>\n",
       "      <th>improvement_surcharge</th>\n",
       "      <th>total_amount</th>\n",
       "      <th>PULocationID</th>\n",
       "      <th>DOLocationID</th>\n",
       "      <th>year</th>\n",
       "    </tr>\n",
       "  </thead>\n",
       "  <tbody>\n",
       "    <tr>\n",
       "      <th>0</th>\n",
       "      <td>1</td>\n",
       "      <td>05/05/2016 10:18:52 PM</td>\n",
       "      <td>05/05/2016 10:25:35 PM</td>\n",
       "      <td>1</td>\n",
       "      <td>0.90</td>\n",
       "      <td>-73.983437</td>\n",
       "      <td>40.722141</td>\n",
       "      <td>1</td>\n",
       "      <td>N</td>\n",
       "      <td>-73.988770</td>\n",
       "      <td>...</td>\n",
       "      <td>6.5</td>\n",
       "      <td>0.5</td>\n",
       "      <td>0.5</td>\n",
       "      <td>1.55</td>\n",
       "      <td>0.0</td>\n",
       "      <td>0.3</td>\n",
       "      <td>9.35</td>\n",
       "      <td>NaN</td>\n",
       "      <td>NaN</td>\n",
       "      <td>2016</td>\n",
       "    </tr>\n",
       "    <tr>\n",
       "      <th>1</th>\n",
       "      <td>1</td>\n",
       "      <td>05/14/2016 01:00:32 PM</td>\n",
       "      <td>05/14/2016 01:07:52 PM</td>\n",
       "      <td>2</td>\n",
       "      <td>1.20</td>\n",
       "      <td>-73.994072</td>\n",
       "      <td>40.761765</td>\n",
       "      <td>1</td>\n",
       "      <td>N</td>\n",
       "      <td>-73.982452</td>\n",
       "      <td>...</td>\n",
       "      <td>7.0</td>\n",
       "      <td>0.0</td>\n",
       "      <td>0.5</td>\n",
       "      <td>0.00</td>\n",
       "      <td>0.0</td>\n",
       "      <td>0.3</td>\n",
       "      <td>7.80</td>\n",
       "      <td>NaN</td>\n",
       "      <td>NaN</td>\n",
       "      <td>2016</td>\n",
       "    </tr>\n",
       "    <tr>\n",
       "      <th>2</th>\n",
       "      <td>1</td>\n",
       "      <td>05/06/2016 02:59:36 PM</td>\n",
       "      <td>05/06/2016 03:29:22 PM</td>\n",
       "      <td>1</td>\n",
       "      <td>2.40</td>\n",
       "      <td>-73.963943</td>\n",
       "      <td>40.776794</td>\n",
       "      <td>1</td>\n",
       "      <td>N</td>\n",
       "      <td>-73.988365</td>\n",
       "      <td>...</td>\n",
       "      <td>18.5</td>\n",
       "      <td>0.0</td>\n",
       "      <td>0.5</td>\n",
       "      <td>0.00</td>\n",
       "      <td>0.0</td>\n",
       "      <td>0.3</td>\n",
       "      <td>19.30</td>\n",
       "      <td>NaN</td>\n",
       "      <td>NaN</td>\n",
       "      <td>2016</td>\n",
       "    </tr>\n",
       "    <tr>\n",
       "      <th>3</th>\n",
       "      <td>1</td>\n",
       "      <td>05/19/2016 10:13:47 PM</td>\n",
       "      <td>05/19/2016 10:32:45 PM</td>\n",
       "      <td>1</td>\n",
       "      <td>3.70</td>\n",
       "      <td>-73.987656</td>\n",
       "      <td>40.732311</td>\n",
       "      <td>1</td>\n",
       "      <td>N</td>\n",
       "      <td>-73.952148</td>\n",
       "      <td>...</td>\n",
       "      <td>15.5</td>\n",
       "      <td>0.5</td>\n",
       "      <td>0.5</td>\n",
       "      <td>4.20</td>\n",
       "      <td>0.0</td>\n",
       "      <td>0.3</td>\n",
       "      <td>21.00</td>\n",
       "      <td>NaN</td>\n",
       "      <td>NaN</td>\n",
       "      <td>2016</td>\n",
       "    </tr>\n",
       "    <tr>\n",
       "      <th>4</th>\n",
       "      <td>2</td>\n",
       "      <td>05/07/2016 02:40:26 PM</td>\n",
       "      <td>05/07/2016 02:58:03 PM</td>\n",
       "      <td>5</td>\n",
       "      <td>1.73</td>\n",
       "      <td>-73.974777</td>\n",
       "      <td>40.777763</td>\n",
       "      <td>1</td>\n",
       "      <td>N</td>\n",
       "      <td>-73.953613</td>\n",
       "      <td>...</td>\n",
       "      <td>12.5</td>\n",
       "      <td>0.0</td>\n",
       "      <td>0.5</td>\n",
       "      <td>2.66</td>\n",
       "      <td>0.0</td>\n",
       "      <td>0.3</td>\n",
       "      <td>15.96</td>\n",
       "      <td>NaN</td>\n",
       "      <td>NaN</td>\n",
       "      <td>2016</td>\n",
       "    </tr>\n",
       "  </tbody>\n",
       "</table>\n",
       "<p>5 rows × 22 columns</p>\n",
       "</div>"
      ],
      "text/plain": [
       "   VendorID    tpep_pickup_datetime   tpep_dropoff_datetime  passenger_count  \\\n",
       "0         1  05/05/2016 10:18:52 PM  05/05/2016 10:25:35 PM                1   \n",
       "1         1  05/14/2016 01:00:32 PM  05/14/2016 01:07:52 PM                2   \n",
       "2         1  05/06/2016 02:59:36 PM  05/06/2016 03:29:22 PM                1   \n",
       "3         1  05/19/2016 10:13:47 PM  05/19/2016 10:32:45 PM                1   \n",
       "4         2  05/07/2016 02:40:26 PM  05/07/2016 02:58:03 PM                5   \n",
       "\n",
       "   trip_distance  pickup_longitude  pickup_latitude  RatecodeID  \\\n",
       "0           0.90        -73.983437        40.722141           1   \n",
       "1           1.20        -73.994072        40.761765           1   \n",
       "2           2.40        -73.963943        40.776794           1   \n",
       "3           3.70        -73.987656        40.732311           1   \n",
       "4           1.73        -73.974777        40.777763           1   \n",
       "\n",
       "  store_and_fwd_flag  dropoff_longitude  ...  fare_amount  extra  mta_tax  \\\n",
       "0                  N         -73.988770  ...          6.5    0.5      0.5   \n",
       "1                  N         -73.982452  ...          7.0    0.0      0.5   \n",
       "2                  N         -73.988365  ...         18.5    0.0      0.5   \n",
       "3                  N         -73.952148  ...         15.5    0.5      0.5   \n",
       "4                  N         -73.953613  ...         12.5    0.0      0.5   \n",
       "\n",
       "   tip_amount  tolls_amount  improvement_surcharge  total_amount  \\\n",
       "0        1.55           0.0                    0.3          9.35   \n",
       "1        0.00           0.0                    0.3          7.80   \n",
       "2        0.00           0.0                    0.3         19.30   \n",
       "3        4.20           0.0                    0.3         21.00   \n",
       "4        2.66           0.0                    0.3         15.96   \n",
       "\n",
       "   PULocationID  DOLocationID  year  \n",
       "0           NaN           NaN  2016  \n",
       "1           NaN           NaN  2016  \n",
       "2           NaN           NaN  2016  \n",
       "3           NaN           NaN  2016  \n",
       "4           NaN           NaN  2016  \n",
       "\n",
       "[5 rows x 22 columns]"
      ]
     },
     "execution_count": 6,
     "metadata": {},
     "output_type": "execute_result"
    }
   ],
   "source": [
    "df = pd.read_parquet(fn)\n",
    "df.head()"
   ]
  },
  {
   "cell_type": "code",
   "execution_count": 7,
   "metadata": {},
   "outputs": [
    {
     "name": "stdout",
     "output_type": "stream",
     "text": [
      "<class 'pandas.core.frame.DataFrame'>\n",
      "RangeIndex: 391230 entries, 0 to 391229\n",
      "Data columns (total 22 columns):\n",
      " #   Column                 Non-Null Count   Dtype  \n",
      "---  ------                 --------------   -----  \n",
      " 0   VendorID               391230 non-null  int64  \n",
      " 1   tpep_pickup_datetime   391230 non-null  object \n",
      " 2   tpep_dropoff_datetime  391230 non-null  object \n",
      " 3   passenger_count        391230 non-null  int64  \n",
      " 4   trip_distance          391230 non-null  float64\n",
      " 5   pickup_longitude       391230 non-null  float64\n",
      " 6   pickup_latitude        391230 non-null  float64\n",
      " 7   RatecodeID             391230 non-null  int64  \n",
      " 8   store_and_fwd_flag     391230 non-null  object \n",
      " 9   dropoff_longitude      391230 non-null  float64\n",
      " 10  dropoff_latitude       391230 non-null  float64\n",
      " 11  payment_type           391230 non-null  int64  \n",
      " 12  fare_amount            391230 non-null  float64\n",
      " 13  extra                  391230 non-null  float64\n",
      " 14  mta_tax                391230 non-null  float64\n",
      " 15  tip_amount             391230 non-null  float64\n",
      " 16  tolls_amount           391230 non-null  float64\n",
      " 17  improvement_surcharge  391230 non-null  float64\n",
      " 18  total_amount           391230 non-null  float64\n",
      " 19  PULocationID           0 non-null       float64\n",
      " 20  DOLocationID           0 non-null       float64\n",
      " 21  year                   391230 non-null  int32  \n",
      "dtypes: float64(14), int32(1), int64(4), object(3)\n",
      "memory usage: 64.2+ MB\n"
     ]
    }
   ],
   "source": [
    "df.info()"
   ]
  },
  {
   "cell_type": "code",
   "execution_count": 8,
   "metadata": {},
   "outputs": [
    {
     "data": {
      "text/html": [
       "<div>\n",
       "<style scoped>\n",
       "    .dataframe tbody tr th:only-of-type {\n",
       "        vertical-align: middle;\n",
       "    }\n",
       "\n",
       "    .dataframe tbody tr th {\n",
       "        vertical-align: top;\n",
       "    }\n",
       "\n",
       "    .dataframe thead th {\n",
       "        text-align: right;\n",
       "    }\n",
       "</style>\n",
       "<table border=\"1\" class=\"dataframe\">\n",
       "  <thead>\n",
       "    <tr style=\"text-align: right;\">\n",
       "      <th></th>\n",
       "      <th>tpep_pickup_datetime</th>\n",
       "      <th>tpep_dropoff_datetime</th>\n",
       "    </tr>\n",
       "  </thead>\n",
       "  <tbody>\n",
       "    <tr>\n",
       "      <th>0</th>\n",
       "      <td>05/05/2016 10:18:52 PM</td>\n",
       "      <td>05/05/2016 10:25:35 PM</td>\n",
       "    </tr>\n",
       "    <tr>\n",
       "      <th>1</th>\n",
       "      <td>05/14/2016 01:00:32 PM</td>\n",
       "      <td>05/14/2016 01:07:52 PM</td>\n",
       "    </tr>\n",
       "    <tr>\n",
       "      <th>2</th>\n",
       "      <td>05/06/2016 02:59:36 PM</td>\n",
       "      <td>05/06/2016 03:29:22 PM</td>\n",
       "    </tr>\n",
       "    <tr>\n",
       "      <th>3</th>\n",
       "      <td>05/19/2016 10:13:47 PM</td>\n",
       "      <td>05/19/2016 10:32:45 PM</td>\n",
       "    </tr>\n",
       "    <tr>\n",
       "      <th>4</th>\n",
       "      <td>05/07/2016 02:40:26 PM</td>\n",
       "      <td>05/07/2016 02:58:03 PM</td>\n",
       "    </tr>\n",
       "  </tbody>\n",
       "</table>\n",
       "</div>"
      ],
      "text/plain": [
       "     tpep_pickup_datetime   tpep_dropoff_datetime\n",
       "0  05/05/2016 10:18:52 PM  05/05/2016 10:25:35 PM\n",
       "1  05/14/2016 01:00:32 PM  05/14/2016 01:07:52 PM\n",
       "2  05/06/2016 02:59:36 PM  05/06/2016 03:29:22 PM\n",
       "3  05/19/2016 10:13:47 PM  05/19/2016 10:32:45 PM\n",
       "4  05/07/2016 02:40:26 PM  05/07/2016 02:58:03 PM"
      ]
     },
     "execution_count": 8,
     "metadata": {},
     "output_type": "execute_result"
    }
   ],
   "source": [
    "dt_cols = ['tpep_pickup_datetime',\n",
    "           'tpep_dropoff_datetime']\n",
    "df[dt_cols].head()"
   ]
  },
  {
   "cell_type": "code",
   "execution_count": 9,
   "metadata": {},
   "outputs": [],
   "source": [
    "def features_dt(df, col_dt):\n",
    "    df[f\"{col_dt}_month\"] = df[col_dt].dt.month\n",
    "    df[f\"{col_dt}_day\"] = df[col_dt].dt.day\n",
    "    df[f\"{col_dt}_hour\"] = df[col_dt].dt.hour\n",
    "    df[f\"{col_dt}_minute\"] = df[col_dt].dt.minute\n",
    "    df[f\"{col_dt}_dow\"] = df[col_dt].dt.weekday\n",
    "    df[f\"{col_dt}_is_weekend\"] = df[f\"{col_dt}_dow\"].ge(5)\n",
    "    return df"
   ]
  },
  {
   "cell_type": "code",
   "execution_count": 10,
   "metadata": {},
   "outputs": [],
   "source": [
    "def add_features(fn, fldr_in, fldr_out):\n",
    "    df = pd.read_parquet(fn)\n",
    "    dt_cols = ['tpep_pickup_datetime',\n",
    "               'tpep_dropoff_datetime']\n",
    "    for col in dt_cols:\n",
    "        df[col] = pd.to_datetime(df[col],\n",
    "                                 format='%m/%d/%Y %I:%M:%S %p')\n",
    "    df = features_dt(df, 'tpep_pickup_datetime')\n",
    "    fn_out = fn.replace(fldr_in, fldr_out)\n",
    "    os.makedirs(\n",
    "        os.path.dirname(fn_out), exist_ok=True)\n",
    "    df.to_parquet(fn_out)"
   ]
  },
  {
   "cell_type": "code",
   "execution_count": 11,
   "metadata": {},
   "outputs": [],
   "source": [
    "fldr_out = 'nyctaxi/part_parquet_stage1_features/'"
   ]
  },
  {
   "cell_type": "code",
   "execution_count": 12,
   "metadata": {},
   "outputs": [
    {
     "name": "stdout",
     "output_type": "stream",
     "text": [
      "CPU times: user 5.18 s, sys: 207 ms, total: 5.39 s\n",
      "Wall time: 5.34 s\n"
     ]
    }
   ],
   "source": [
    "%%time\n",
    "o = add_features(fn, fldr_in, fldr_out)"
   ]
  },
  {
   "cell_type": "code",
   "execution_count": 13,
   "metadata": {},
   "outputs": [
    {
     "name": "stderr",
     "output_type": "stream",
     "text": [
      "/home/baobob/.conda/envs/packt_dask/lib/python3.8/site-packages/distributed/node.py:151: UserWarning: Port 8787 is already in use.\n",
      "Perhaps you already have a cluster running?\n",
      "Hosting the HTTP server on port 40135 instead\n",
      "  warnings.warn(\n"
     ]
    },
    {
     "data": {
      "text/html": [
       "<table style=\"border: 2px solid white;\">\n",
       "<tr>\n",
       "<td style=\"vertical-align: top; border: 0px solid white\">\n",
       "<h3 style=\"text-align: left;\">Client</h3>\n",
       "<ul style=\"text-align: left; list-style: none; margin: 0; padding: 0;\">\n",
       "  <li><b>Scheduler: </b>tcp://127.0.0.1:39995</li>\n",
       "  <li><b>Dashboard: </b><a href='http://127.0.0.1:40135/status' target='_blank'>http://127.0.0.1:40135/status</a></li>\n",
       "</ul>\n",
       "</td>\n",
       "<td style=\"vertical-align: top; border: 0px solid white\">\n",
       "<h3 style=\"text-align: left;\">Cluster</h3>\n",
       "<ul style=\"text-align: left; list-style:none; margin: 0; padding: 0;\">\n",
       "  <li><b>Workers: </b>4</li>\n",
       "  <li><b>Cores: </b>4</li>\n",
       "  <li><b>Memory: </b>16.50 GB</li>\n",
       "</ul>\n",
       "</td>\n",
       "</tr>\n",
       "</table>"
      ],
      "text/plain": [
       "<Client: 'tcp://127.0.0.1:39995' processes=4 threads=4, memory=16.50 GB>"
      ]
     },
     "execution_count": 13,
     "metadata": {},
     "output_type": "execute_result"
    }
   ],
   "source": [
    "import dask.bag as db\n",
    "from dask.distributed import Client\n",
    "client = Client()\n",
    "client"
   ]
  },
  {
   "cell_type": "code",
   "execution_count": 14,
   "metadata": {},
   "outputs": [
    {
     "name": "stdout",
     "output_type": "stream",
     "text": [
      "CPU times: user 3min 28s, sys: 20 s, total: 3min 48s\n",
      "Wall time: 44min 20s\n"
     ]
    }
   ],
   "source": [
    "%%time\n",
    "out = db.from_sequence(fns)\\\n",
    "        .map(lambda fn: add_features(fn, fldr_in, fldr_out))\\\n",
    "        .compute()"
   ]
  },
  {
   "cell_type": "code",
   "execution_count": 15,
   "metadata": {},
   "outputs": [],
   "source": [
    "client.close()"
   ]
  },
  {
   "cell_type": "code",
   "execution_count": null,
   "metadata": {},
   "outputs": [],
   "source": []
  }
 ],
 "metadata": {
  "kernelspec": {
   "display_name": "packt_dask",
   "language": "python",
   "name": "packt_dask"
  },
  "language_info": {
   "codemirror_mode": {
    "name": "ipython",
    "version": 3
   },
   "file_extension": ".py",
   "mimetype": "text/x-python",
   "name": "python",
   "nbconvert_exporter": "python",
   "pygments_lexer": "ipython3",
   "version": "3.8.6"
  }
 },
 "nbformat": 4,
 "nbformat_minor": 4
}
