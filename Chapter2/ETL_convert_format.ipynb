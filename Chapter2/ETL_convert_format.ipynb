{
 "cells": [
  {
   "cell_type": "code",
   "execution_count": null,
   "metadata": {},
   "outputs": [],
   "source": [
    "import dask.bag as db\n",
    "import json\n",
    "import os\n",
    "fldr_in = \"data_bag/json/\"     \n",
    "fldr_out = \"data_bag/csv\""
   ]
  },
  {
   "cell_type": "code",
   "execution_count": null,
   "metadata": {},
   "outputs": [],
   "source": [
    "b = db.read_text(os.path.join(fldr_in, '*.json')).map(json.loads)\n",
    "record = b.take(4)[0]"
   ]
  },
  {
   "cell_type": "code",
   "execution_count": null,
   "metadata": {},
   "outputs": [],
   "source": [
    "record"
   ]
  },
  {
   "cell_type": "code",
   "execution_count": 4,
   "metadata": {},
   "outputs": [],
   "source": [
    "import pandas as pd"
   ]
  },
  {
   "cell_type": "code",
   "execution_count": 5,
   "metadata": {},
   "outputs": [],
   "source": [
    "df = pd.json_normalize(record)"
   ]
  },
  {
   "cell_type": "code",
   "execution_count": 6,
   "metadata": {},
   "outputs": [
    {
     "data": {
      "text/html": [
       "<div>\n",
       "<style scoped>\n",
       "    .dataframe tbody tr th:only-of-type {\n",
       "        vertical-align: middle;\n",
       "    }\n",
       "\n",
       "    .dataframe tbody tr th {\n",
       "        vertical-align: top;\n",
       "    }\n",
       "\n",
       "    .dataframe thead th {\n",
       "        text-align: right;\n",
       "    }\n",
       "</style>\n",
       "<table border=\"1\" class=\"dataframe\">\n",
       "  <thead>\n",
       "    <tr style=\"text-align: right;\">\n",
       "      <th></th>\n",
       "      <th>age</th>\n",
       "      <th>name</th>\n",
       "      <th>occupation</th>\n",
       "      <th>telephone</th>\n",
       "      <th>address.address</th>\n",
       "      <th>address.city</th>\n",
       "      <th>credit-card.number</th>\n",
       "      <th>credit-card.expiration-date</th>\n",
       "    </tr>\n",
       "  </thead>\n",
       "  <tbody>\n",
       "    <tr>\n",
       "      <th>0</th>\n",
       "      <td>52</td>\n",
       "      <td>[Zulema, Walters]</td>\n",
       "      <td>Pools Collector</td>\n",
       "      <td>949-313-2340</td>\n",
       "      <td>1159 Crestwell Pike</td>\n",
       "      <td>Providence</td>\n",
       "      <td>3485 248758 62500</td>\n",
       "      <td>04/22</td>\n",
       "    </tr>\n",
       "  </tbody>\n",
       "</table>\n",
       "</div>"
      ],
      "text/plain": [
       "   age               name       occupation     telephone      address.address  \\\n",
       "0   52  [Zulema, Walters]  Pools Collector  949-313-2340  1159 Crestwell Pike   \n",
       "\n",
       "  address.city credit-card.number credit-card.expiration-date  \n",
       "0   Providence  3485 248758 62500                       04/22  "
      ]
     },
     "execution_count": 6,
     "metadata": {},
     "output_type": "execute_result"
    }
   ],
   "source": [
    "df"
   ]
  },
  {
   "cell_type": "code",
   "execution_count": 7,
   "metadata": {},
   "outputs": [],
   "source": []
  },
  {
   "cell_type": "code",
   "execution_count": 8,
   "metadata": {},
   "outputs": [],
   "source": [
    "df[[\"name0\", \"name1\"]] = pd.DataFrame(df['name'].tolist())\n",
    "df = df.drop(columns=[\"name\"])"
   ]
  },
  {
   "cell_type": "code",
   "execution_count": 9,
   "metadata": {},
   "outputs": [
    {
     "data": {
      "text/html": [
       "<div>\n",
       "<style scoped>\n",
       "    .dataframe tbody tr th:only-of-type {\n",
       "        vertical-align: middle;\n",
       "    }\n",
       "\n",
       "    .dataframe tbody tr th {\n",
       "        vertical-align: top;\n",
       "    }\n",
       "\n",
       "    .dataframe thead th {\n",
       "        text-align: right;\n",
       "    }\n",
       "</style>\n",
       "<table border=\"1\" class=\"dataframe\">\n",
       "  <thead>\n",
       "    <tr style=\"text-align: right;\">\n",
       "      <th></th>\n",
       "      <th>age</th>\n",
       "      <th>occupation</th>\n",
       "      <th>telephone</th>\n",
       "      <th>address.address</th>\n",
       "      <th>address.city</th>\n",
       "      <th>credit-card.number</th>\n",
       "      <th>credit-card.expiration-date</th>\n",
       "      <th>name0</th>\n",
       "      <th>name1</th>\n",
       "    </tr>\n",
       "  </thead>\n",
       "  <tbody>\n",
       "    <tr>\n",
       "      <th>0</th>\n",
       "      <td>52</td>\n",
       "      <td>Pools Collector</td>\n",
       "      <td>949-313-2340</td>\n",
       "      <td>1159 Crestwell Pike</td>\n",
       "      <td>Providence</td>\n",
       "      <td>3485 248758 62500</td>\n",
       "      <td>04/22</td>\n",
       "      <td>Zulema</td>\n",
       "      <td>Walters</td>\n",
       "    </tr>\n",
       "  </tbody>\n",
       "</table>\n",
       "</div>"
      ],
      "text/plain": [
       "   age       occupation     telephone      address.address address.city  \\\n",
       "0   52  Pools Collector  949-313-2340  1159 Crestwell Pike   Providence   \n",
       "\n",
       "  credit-card.number credit-card.expiration-date   name0    name1  \n",
       "0  3485 248758 62500                       04/22  Zulema  Walters  "
      ]
     },
     "execution_count": 9,
     "metadata": {},
     "output_type": "execute_result"
    }
   ],
   "source": [
    "df"
   ]
  },
  {
   "cell_type": "code",
   "execution_count": 19,
   "metadata": {},
   "outputs": [],
   "source": [
    "def flatten(record):\n",
    "    df = pd.json_normalize(record)\n",
    "    df[[\"name0\", \"name1\"]] = pd.DataFrame(df['name'].tolist())\n",
    "    df = df.drop(columns=[\"name\"])\n",
    "    return df"
   ]
  },
  {
   "cell_type": "code",
   "execution_count": 21,
   "metadata": {},
   "outputs": [],
   "source": [
    "out = db.read_text(f'{fldr}/*.json')\\\n",
    "        .map(json.loads)\\\n",
    "        .map_partitions(lambda part: pd.concat([pd.json_normalize(x) for x in part]))"
   ]
  },
  {
   "cell_type": "code",
   "execution_count": 76,
   "metadata": {},
   "outputs": [
    {
     "data": {
      "text/plain": [
       "dask.bag<concat, npartitions=1>"
      ]
     },
     "execution_count": 76,
     "metadata": {},
     "output_type": "execute_result"
    }
   ],
   "source": [
    "db.read_text(f'{fldr}/0.json')\\\n",
    "  .map(json.loads)\\\n",
    "  .map(flatten).starmap(pd.concat)"
   ]
  },
  {
   "cell_type": "code",
   "execution_count": 103,
   "metadata": {},
   "outputs": [],
   "source": [
    "fldr_in = \"data_bag/json\"\n",
    "fldr_out = \"data_bag/csv\""
   ]
  },
  {
   "cell_type": "code",
   "execution_count": 96,
   "metadata": {},
   "outputs": [],
   "source": [
    "data = []\n",
    "for line in open(f'{fldr}/0.json', 'r'):\n",
    "    record = json.loads(line)\n",
    "    data.append(flatten(record))\n",
    "data = pd.concat(data)"
   ]
  },
  {
   "cell_type": "code",
   "execution_count": 14,
   "metadata": {},
   "outputs": [],
   "source": [
    "fns = os.listdir(fldr_in)"
   ]
  },
  {
   "cell_type": "code",
   "execution_count": null,
   "metadata": {},
   "outputs": [],
   "source": []
  },
  {
   "cell_type": "code",
   "execution_count": 22,
   "metadata": {},
   "outputs": [],
   "source": [
    "def convert_json(fn, fldr_in, fldr_out):\n",
    "    os.makedirs(fldr_out, exist_ok=True)\n",
    "    data = []\n",
    "    for line in open(os.path.join(fldr_in, fn), 'r'):\n",
    "        record = json.loads(line)\n",
    "        data.append(flatten(record))\n",
    "    data = pd.concat(data)\n",
    "    data.to_csv(os.path.join(fldr_out, fn), index=False)"
   ]
  },
  {
   "cell_type": "code",
   "execution_count": 108,
   "metadata": {},
   "outputs": [
    {
     "name": "stdout",
     "output_type": "stream",
     "text": [
      "CPU times: user 42.3 s, sys: 35.3 ms, total: 42.4 s\n",
      "Wall time: 42.4 s\n"
     ]
    }
   ],
   "source": [
    "%%time\n",
    "for fn in fns:\n",
    "    convert_json(fn, fldr_in, fldr_out)"
   ]
  },
  {
   "cell_type": "code",
   "execution_count": 109,
   "metadata": {},
   "outputs": [],
   "source": [
    "from dask import delayed, compute"
   ]
  },
  {
   "cell_type": "code",
   "execution_count": 111,
   "metadata": {},
   "outputs": [],
   "source": [
    "from dask.distributed import Client, LocalCluster\n",
    "from dask import delayed, compute\n",
    "\n",
    "cluster = LocalCluster(n_workers=4)\n",
    "client = Client(cluster)"
   ]
  },
  {
   "cell_type": "code",
   "execution_count": 112,
   "metadata": {},
   "outputs": [
    {
     "data": {
      "text/html": [
       "<table style=\"border: 2px solid white;\">\n",
       "<tr>\n",
       "<td style=\"vertical-align: top; border: 0px solid white\">\n",
       "<h3 style=\"text-align: left;\">Client</h3>\n",
       "<ul style=\"text-align: left; list-style: none; margin: 0; padding: 0;\">\n",
       "  <li><b>Scheduler: </b>tcp://127.0.0.1:39711</li>\n",
       "  <li><b>Dashboard: </b><a href='http://127.0.0.1:8787/status' target='_blank'>http://127.0.0.1:8787/status</a></li>\n",
       "</ul>\n",
       "</td>\n",
       "<td style=\"vertical-align: top; border: 0px solid white\">\n",
       "<h3 style=\"text-align: left;\">Cluster</h3>\n",
       "<ul style=\"text-align: left; list-style:none; margin: 0; padding: 0;\">\n",
       "  <li><b>Workers: </b>4</li>\n",
       "  <li><b>Cores: </b>4</li>\n",
       "  <li><b>Memory: </b>16.50 GB</li>\n",
       "</ul>\n",
       "</td>\n",
       "</tr>\n",
       "</table>"
      ],
      "text/plain": [
       "<Client: 'tcp://127.0.0.1:39711' processes=4 threads=4, memory=16.50 GB>"
      ]
     },
     "execution_count": 112,
     "metadata": {},
     "output_type": "execute_result"
    }
   ],
   "source": [
    "client"
   ]
  },
  {
   "cell_type": "code",
   "execution_count": 113,
   "metadata": {},
   "outputs": [
    {
     "name": "stdout",
     "output_type": "stream",
     "text": [
      "CPU times: user 2.4 s, sys: 305 ms, total: 2.71 s\n",
      "Wall time: 27.6 s\n"
     ]
    }
   ],
   "source": [
    "%%time\n",
    "to_compute = [delayed(convert_json)(fn, fldr_in, fldr_out)\n",
    "              for fn in fns]\n",
    "out = compute(to_compute)"
   ]
  },
  {
   "cell_type": "code",
   "execution_count": 116,
   "metadata": {},
   "outputs": [],
   "source": []
  },
  {
   "cell_type": "code",
   "execution_count": 118,
   "metadata": {},
   "outputs": [
    {
     "name": "stdout",
     "output_type": "stream",
     "text": [
      "CPU times: user 2.03 s, sys: 239 ms, total: 2.27 s\n",
      "Wall time: 23.7 s\n"
     ]
    }
   ],
   "source": [
    "%%time\n",
    "b = db.from_sequence(fns)\\\n",
    "      .map(lambda fn: convert_json(fn, fldr_in, fldr_out))\n",
    "out = b.compute()"
   ]
  },
  {
   "cell_type": "code",
   "execution_count": 28,
   "metadata": {},
   "outputs": [],
   "source": []
  },
  {
   "cell_type": "code",
   "execution_count": 15,
   "metadata": {},
   "outputs": [],
   "source": [
    "fn = fns[0]"
   ]
  },
  {
   "cell_type": "code",
   "execution_count": 16,
   "metadata": {},
   "outputs": [
    {
     "name": "stdout",
     "output_type": "stream",
     "text": [
      "CPU times: user 1.53 s, sys: 0 ns, total: 1.53 s\n",
      "Wall time: 1.54 s\n"
     ]
    }
   ],
   "source": [
    "%%time\n",
    "df = convert_json_faster(fn, fldr_in, fldr_out)"
   ]
  },
  {
   "cell_type": "code",
   "execution_count": 55,
   "metadata": {},
   "outputs": [],
   "source": [
    "def convert_json_faster(fn, fldr_in, fldr_out):\n",
    "    os.makedirs(fldr_out, exist_ok=True)\n",
    "    data = []\n",
    "    for line in open(os.path.join(fldr_in, fn), 'r'):\n",
    "        record = json.loads(line)\n",
    "        data.append(pd.json_normalize(record))\n",
    "    data = pd.concat(data)\n",
    "    data[[\"name0\", \"name1\"]] = pd.DataFrame(data['name'].tolist())\n",
    "    data = data.drop(columns=[\"name\"])\n",
    "    data.to_csv(os.path.join(fldr_out, fn), index=False)"
   ]
  },
  {
   "cell_type": "code",
   "execution_count": 26,
   "metadata": {},
   "outputs": [
    {
     "name": "stdout",
     "output_type": "stream",
     "text": [
      "CPU times: user 1.49 s, sys: 0 ns, total: 1.49 s\n",
      "Wall time: 1.49 s\n"
     ]
    }
   ],
   "source": [
    "%%time\n",
    "df = convert_json_faster1(fn, fldr_in, fldr_out)"
   ]
  },
  {
   "cell_type": "code",
   "execution_count": 29,
   "metadata": {},
   "outputs": [
    {
     "name": "stdout",
     "output_type": "stream",
     "text": [
      "CPU times: user 1.55 s, sys: 3.23 ms, total: 1.55 s\n",
      "Wall time: 1.55 s\n"
     ]
    }
   ],
   "source": [
    "%%time\n",
    "df = convert_json_faster1(fn, fldr_in, fldr_out)"
   ]
  },
  {
   "cell_type": "code",
   "execution_count": 32,
   "metadata": {},
   "outputs": [
    {
     "name": "stdout",
     "output_type": "stream",
     "text": [
      "CPU times: user 53.4 ms, sys: 52.5 ms, total: 106 ms\n",
      "Wall time: 23 s\n"
     ]
    }
   ],
   "source": [
    "%%time\n",
    "b = db.from_sequence(fns)\\\n",
    "      .map(lambda fn: convert_json(fn, fldr_in, fldr_out))\n",
    "out = b.compute()"
   ]
  },
  {
   "cell_type": "code",
   "execution_count": 34,
   "metadata": {},
   "outputs": [
    {
     "name": "stdout",
     "output_type": "stream",
     "text": [
      "CPU times: user 47.2 ms, sys: 37.1 ms, total: 84.3 ms\n",
      "Wall time: 9.04 s\n"
     ]
    }
   ],
   "source": [
    "%%time\n",
    "b = db.from_sequence(fns)\\\n",
    "      .map(lambda fn: convert_json_faster2(fn, fldr_in, fldr_out))\n",
    "out = b.compute()"
   ]
  },
  {
   "cell_type": "code",
   "execution_count": 39,
   "metadata": {},
   "outputs": [],
   "source": [
    "%load_ext line_profiler"
   ]
  },
  {
   "cell_type": "code",
   "execution_count": 44,
   "metadata": {},
   "outputs": [
    {
     "data": {
      "text/plain": [
       "Timer unit: 1e-06 s\n",
       "\n",
       "Total time: 9.47534 s\n",
       "File: <ipython-input-22-ee5768c59c9d>\n",
       "Function: convert_json at line 1\n",
       "\n",
       "Line #      Hits         Time  Per Hit   % Time  Line Contents\n",
       "==============================================================\n",
       "     1                                           def convert_json(fn, fldr_in, fldr_out):\n",
       "     2         1        406.0    406.0      0.0      os.makedirs(fldr_out, exist_ok=True)\n",
       "     3         1          3.0      3.0      0.0      data = []\n",
       "     4      1001       5113.0      5.1      0.1      for line in open(os.path.join(fldr_in, fn), 'r'):\n",
       "     5      1000      39711.0     39.7      0.4          record = json.loads(line)\n",
       "     6      1000    9130633.0   9130.6     96.4          data.append(flatten(record))\n",
       "     7         1     292755.0 292755.0      3.1      data = pd.concat(data)\n",
       "     8         1       6716.0   6716.0      0.1      data.to_csv(os.path.join(fldr_out, fn), index=False)"
      ]
     },
     "metadata": {},
     "output_type": "display_data"
    }
   ],
   "source": [
    "%lprun -f convert_json convert_json(fn, fldr_in, fldr_out)"
   ]
  },
  {
   "cell_type": "code",
   "execution_count": 43,
   "metadata": {},
   "outputs": [
    {
     "data": {
      "text/plain": [
       "1111.111111111111"
      ]
     },
     "execution_count": 43,
     "metadata": {},
     "output_type": "execute_result"
    }
   ],
   "source": []
  },
  {
   "cell_type": "code",
   "execution_count": 46,
   "metadata": {},
   "outputs": [
    {
     "data": {
      "text/plain": [
       "Timer unit: 1e-06 s\n",
       "\n",
       "Total time: 0.017553 s\n",
       "File: <ipython-input-19-99731ee5e4b5>\n",
       "Function: flatten at line 1\n",
       "\n",
       "Line #      Hits         Time  Per Hit   % Time  Line Contents\n",
       "==============================================================\n",
       "     1                                           def flatten(record):\n",
       "     2         1       6474.0   6474.0     36.9      df = pd.json_normalize(record)\n",
       "     3         1       6987.0   6987.0     39.8      df[[\"name0\", \"name1\"]] = pd.DataFrame(df['name'].tolist())\n",
       "     4         1       4089.0   4089.0     23.3      df = df.drop(columns=[\"name\"])\n",
       "     5         1          3.0      3.0      0.0      return df"
      ]
     },
     "metadata": {},
     "output_type": "display_data"
    }
   ],
   "source": [
    "%lprun -f flatten flatten(record)"
   ]
  },
  {
   "cell_type": "code",
   "execution_count": 48,
   "metadata": {},
   "outputs": [
    {
     "data": {
      "text/plain": [
       "1111.111111111111"
      ]
     },
     "execution_count": 48,
     "metadata": {},
     "output_type": "execute_result"
    }
   ],
   "source": [
    "4*1e6/60**2"
   ]
  },
  {
   "cell_type": "code",
   "execution_count": 49,
   "metadata": {},
   "outputs": [
    {
     "data": {
      "text/plain": [
       "3600"
      ]
     },
     "execution_count": 49,
     "metadata": {},
     "output_type": "execute_result"
    }
   ],
   "source": [
    "60**2"
   ]
  },
  {
   "cell_type": "code",
   "execution_count": 56,
   "metadata": {},
   "outputs": [
    {
     "data": {
      "text/plain": [
       "Timer unit: 1e-06 s\n",
       "\n",
       "Total time: 3.59581 s\n",
       "File: <ipython-input-55-33fac27e5def>\n",
       "Function: convert_json_faster at line 1\n",
       "\n",
       "Line #      Hits         Time  Per Hit   % Time  Line Contents\n",
       "==============================================================\n",
       "     1                                           def convert_json_faster(fn, fldr_in, fldr_out):\n",
       "     2         1        399.0    399.0      0.0      os.makedirs(fldr_out, exist_ok=True)\n",
       "     3         1          1.0      1.0      0.0      data = []\n",
       "     4      1001       4342.0      4.3      0.1      for line in open(os.path.join(fldr_in, fn), 'r'):\n",
       "     5      1000      37075.0     37.1      1.0          record = json.loads(line)\n",
       "     6      1000    3257240.0   3257.2     90.6          data.append(pd.json_normalize(record))\n",
       "     7         1     280729.0 280729.0      7.8      data = pd.concat(data)\n",
       "     8         1       7015.0   7015.0      0.2      data[[\"name0\", \"name1\"]] = pd.DataFrame(data['name'].tolist())\n",
       "     9         1       2684.0   2684.0      0.1      data = data.drop(columns=[\"name\"])\n",
       "    10         1       6329.0   6329.0      0.2      data.to_csv(os.path.join(fldr_out, fn), index=False)"
      ]
     },
     "metadata": {},
     "output_type": "display_data"
    }
   ],
   "source": [
    "%lprun -f convert_json_faster convert_json_faster(fn, fldr_in, fldr_out)"
   ]
  },
  {
   "cell_type": "code",
   "execution_count": 69,
   "metadata": {},
   "outputs": [
    {
     "data": {
      "text/plain": [
       "2.638888888888889"
      ]
     },
     "execution_count": 69,
     "metadata": {},
     "output_type": "execute_result"
    }
   ],
   "source": [
    "9.5/3.6"
   ]
  },
  {
   "cell_type": "code",
   "execution_count": 61,
   "metadata": {},
   "outputs": [
    {
     "data": {
      "text/plain": [
       "3999.9999999999995"
      ]
     },
     "execution_count": 61,
     "metadata": {},
     "output_type": "execute_result"
    }
   ],
   "source": [
    "400*1e-6*1_0000_000"
   ]
  },
  {
   "cell_type": "code",
   "execution_count": 63,
   "metadata": {},
   "outputs": [
    {
     "data": {
      "text/plain": [
       "0.00039999999999999996"
      ]
     },
     "execution_count": 63,
     "metadata": {},
     "output_type": "execute_result"
    }
   ],
   "source": [
    "400*1e-6"
   ]
  },
  {
   "cell_type": "code",
   "execution_count": 65,
   "metadata": {},
   "outputs": [
    {
     "data": {
      "text/plain": [
       "1.111111111111111"
      ]
     },
     "execution_count": 65,
     "metadata": {},
     "output_type": "execute_result"
    }
   ],
   "source": [
    "400*1e-6*1_0000_000/60**2"
   ]
  },
  {
   "cell_type": "code",
   "execution_count": 72,
   "metadata": {},
   "outputs": [
    {
     "name": "stdout",
     "output_type": "stream",
     "text": [
      "47.8 ns ± 17 ns per loop (mean ± std. dev. of 7 runs, 10 loops each)\n"
     ]
    }
   ],
   "source": [
    "%timeit -n 10 1+1"
   ]
  },
  {
   "cell_type": "code",
   "execution_count": 73,
   "metadata": {},
   "outputs": [
    {
     "name": "stdout",
     "output_type": "stream",
     "text": [
      "4.1 s ± 16.6 ms per loop (mean ± std. dev. of 3 runs, 10 loops each)\n",
      "1.33 s ± 5.08 ms per loop (mean ± std. dev. of 3 runs, 10 loops each)\n"
     ]
    }
   ],
   "source": [
    "%timeit -n 10 -r 3 convert_json(fn, fldr_in, fldr_out)\n",
    "%timeit -n 10 -r 3 convert_json_faster(fn, fldr_in, fldr_out)"
   ]
  },
  {
   "cell_type": "code",
   "execution_count": 74,
   "metadata": {},
   "outputs": [
    {
     "data": {
      "text/plain": [
       "3.0827067669172927"
      ]
     },
     "execution_count": 74,
     "metadata": {},
     "output_type": "execute_result"
    }
   ],
   "source": [
    "4.1/1.33"
   ]
  },
  {
   "cell_type": "code",
   "execution_count": null,
   "metadata": {},
   "outputs": [],
   "source": []
  }
 ],
 "metadata": {
  "kernelspec": {
   "display_name": "packt_dask",
   "language": "python",
   "name": "packt_dask"
  },
  "language_info": {
   "codemirror_mode": {
    "name": "ipython",
    "version": 3
   },
   "file_extension": ".py",
   "mimetype": "text/x-python",
   "name": "python",
   "nbconvert_exporter": "python",
   "pygments_lexer": "ipython3",
   "version": "3.8.6"
  }
 },
 "nbformat": 4,
 "nbformat_minor": 4
}
