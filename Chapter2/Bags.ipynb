{
 "cells": [
  {
   "cell_type": "code",
   "execution_count": 1,
   "metadata": {},
   "outputs": [
    {
     "data": {
      "text/html": [
       "<table style=\"border: 2px solid white;\">\n",
       "<tr>\n",
       "<td style=\"vertical-align: top; border: 0px solid white\">\n",
       "<h3 style=\"text-align: left;\">Client</h3>\n",
       "<ul style=\"text-align: left; list-style: none; margin: 0; padding: 0;\">\n",
       "  <li><b>Scheduler: </b>tcp://127.0.0.1:33271</li>\n",
       "  <li><b>Dashboard: </b><a href='http://127.0.0.1:8787/status' target='_blank'>http://127.0.0.1:8787/status</a></li>\n",
       "</ul>\n",
       "</td>\n",
       "<td style=\"vertical-align: top; border: 0px solid white\">\n",
       "<h3 style=\"text-align: left;\">Cluster</h3>\n",
       "<ul style=\"text-align: left; list-style:none; margin: 0; padding: 0;\">\n",
       "  <li><b>Workers: </b>4</li>\n",
       "  <li><b>Cores: </b>4</li>\n",
       "  <li><b>Memory: </b>16.50 GB</li>\n",
       "</ul>\n",
       "</td>\n",
       "</tr>\n",
       "</table>"
      ],
      "text/plain": [
       "<Client: 'tcp://127.0.0.1:33271' processes=4 threads=4, memory=16.50 GB>"
      ]
     },
     "execution_count": 1,
     "metadata": {},
     "output_type": "execute_result"
    }
   ],
   "source": [
    "from dask.distributed import Client, progress\n",
    "client = Client(n_workers=4, threads_per_worker=1)\n",
    "client"
   ]
  },
  {
   "cell_type": "markdown",
   "metadata": {},
   "source": [
    "# Generate Data"
   ]
  },
  {
   "cell_type": "code",
   "execution_count": 4,
   "metadata": {},
   "outputs": [],
   "source": [
    "import dask\n",
    "import json\n",
    "\n",
    "fldr = 'data_bag/json'     # data directory \n",
    "b = dask.datasets.make_people(seed=0)"
   ]
  },
  {
   "cell_type": "code",
   "execution_count": 2,
   "metadata": {},
   "outputs": [
    {
     "data": {
      "text/plain": [
       "dask.bag<mimesis, npartitions=10>"
      ]
     },
     "execution_count": 2,
     "metadata": {},
     "output_type": "execute_result"
    }
   ],
   "source": [
    "b"
   ]
  },
  {
   "cell_type": "code",
   "execution_count": 5,
   "metadata": {},
   "outputs": [
    {
     "data": {
      "text/plain": [
       "['/media/data/Projects/Dask-Book/Machine-Learning-and-Data-Analysis-with-Dask/Chapter2/data_bag/json/0.json',\n",
       " '/media/data/Projects/Dask-Book/Machine-Learning-and-Data-Analysis-with-Dask/Chapter2/data_bag/json/1.json',\n",
       " '/media/data/Projects/Dask-Book/Machine-Learning-and-Data-Analysis-with-Dask/Chapter2/data_bag/json/2.json',\n",
       " '/media/data/Projects/Dask-Book/Machine-Learning-and-Data-Analysis-with-Dask/Chapter2/data_bag/json/3.json',\n",
       " '/media/data/Projects/Dask-Book/Machine-Learning-and-Data-Analysis-with-Dask/Chapter2/data_bag/json/4.json',\n",
       " '/media/data/Projects/Dask-Book/Machine-Learning-and-Data-Analysis-with-Dask/Chapter2/data_bag/json/5.json',\n",
       " '/media/data/Projects/Dask-Book/Machine-Learning-and-Data-Analysis-with-Dask/Chapter2/data_bag/json/6.json',\n",
       " '/media/data/Projects/Dask-Book/Machine-Learning-and-Data-Analysis-with-Dask/Chapter2/data_bag/json/7.json',\n",
       " '/media/data/Projects/Dask-Book/Machine-Learning-and-Data-Analysis-with-Dask/Chapter2/data_bag/json/8.json',\n",
       " '/media/data/Projects/Dask-Book/Machine-Learning-and-Data-Analysis-with-Dask/Chapter2/data_bag/json/9.json']"
      ]
     },
     "execution_count": 5,
     "metadata": {},
     "output_type": "execute_result"
    }
   ],
   "source": [
    "b.map(json.dumps).to_textfiles(f'{fldr}/*.json')"
   ]
  },
  {
   "cell_type": "markdown",
   "metadata": {},
   "source": [
    "# Read Data"
   ]
  },
  {
   "cell_type": "markdown",
   "metadata": {},
   "source": [
    "**Questions**\n",
    "* How many records there are \n",
    "* How many credit cards are expired? \n",
    "* Most popular name or occupation for people with age between 40 and 65 "
   ]
  },
  {
   "cell_type": "code",
   "execution_count": 5,
   "metadata": {},
   "outputs": [],
   "source": [
    "import json\n",
    "import dask.bag as db\n",
    "fldr = 'data_bag'"
   ]
  },
  {
   "cell_type": "code",
   "execution_count": 6,
   "metadata": {},
   "outputs": [],
   "source": [
    "b = db.read_text(f'{fldr}/*.json').map(json.loads)"
   ]
  },
  {
   "cell_type": "markdown",
   "metadata": {},
   "source": [
    "As we saw on the previous chapther b is a Dask object so in order to explore the data we could use b.compute() which works because the data in this case is small enough to fit in memory. Alternative we can use b.take(n) to print the first n records. From the output of b.take(4) we can see that these records contain credit-card information as age, name, profession, phone number and address. You might notice that in some cases the credit card is expired, the format for the phone number is not always the same and it might contain the international phone codes."
   ]
  },
  {
   "cell_type": "code",
   "execution_count": 37,
   "metadata": {},
   "outputs": [
    {
     "data": {
      "text/plain": [
       "({'age': 52,\n",
       "  'name': ['Zulema', 'Walters'],\n",
       "  'occupation': 'Pools Collector',\n",
       "  'telephone': '949-313-2340',\n",
       "  'address': {'address': '1159 Crestwell Pike', 'city': 'Providence'},\n",
       "  'credit-card': {'number': '3485 248758 62500', 'expiration-date': '04/22'}},\n",
       " {'age': 25,\n",
       "  'name': ['Claris', 'Chase'],\n",
       "  'occupation': 'Clergyman',\n",
       "  'telephone': '(484) 989-0982',\n",
       "  'address': {'address': '303 Jason Spur', 'city': 'Kettering'},\n",
       "  'credit-card': {'number': '4097 0322 1214 1781',\n",
       "   'expiration-date': '08/16'}},\n",
       " {'age': 44,\n",
       "  'name': ['Jorge', 'Klein'],\n",
       "  'occupation': 'Building Control',\n",
       "  'telephone': '1-619-049-6745',\n",
       "  'address': {'address': '1145 Otis Esplanade', 'city': 'Hastings'},\n",
       "  'credit-card': {'number': '5136 9375 5713 6925',\n",
       "   'expiration-date': '08/18'}},\n",
       " {'age': 45,\n",
       "  'name': ['Heriberto', 'Waller'],\n",
       "  'occupation': 'Slaughterman',\n",
       "  'telephone': '047.023.6435',\n",
       "  'address': {'address': '25 Heron Point', 'city': 'Wausau'},\n",
       "  'credit-card': {'number': '5312 6379 9376 4977',\n",
       "   'expiration-date': '05/19'}})"
      ]
     },
     "execution_count": 37,
     "metadata": {},
     "output_type": "execute_result"
    }
   ],
   "source": [
    "b.take(4)"
   ]
  },
  {
   "cell_type": "code",
   "execution_count": 39,
   "metadata": {},
   "outputs": [
    {
     "data": {
      "text/plain": [
       "10000"
      ]
     },
     "execution_count": 39,
     "metadata": {},
     "output_type": "execute_result"
    }
   ],
   "source": [
    "N = b.count().compute()\n",
    "N"
   ]
  },
  {
   "cell_type": "code",
   "execution_count": 9,
   "metadata": {},
   "outputs": [
    {
     "data": {
      "text/plain": [
       "'04/22'"
      ]
     },
     "execution_count": 9,
     "metadata": {},
     "output_type": "execute_result"
    }
   ],
   "source": [
    "from datetime import datetime\n",
    "record = b.take(4)[0]\n",
    "record['credit-card']['expiration-date']"
   ]
  },
  {
   "cell_type": "code",
   "execution_count": 14,
   "metadata": {},
   "outputs": [],
   "source": [
    "# date_lmt = datetime.today()\n",
    "date_lmt = datetime(2020, 10 , 26)"
   ]
  },
  {
   "cell_type": "code",
   "execution_count": 15,
   "metadata": {},
   "outputs": [],
   "source": [
    "def is_expired(record, date_lmt):\n",
    "    exp_date = datetime.strptime(record['credit-card']['expiration-date'],\n",
    "                  '%m/%y') \n",
    "    return exp_date < date_lmt"
   ]
  },
  {
   "cell_type": "code",
   "execution_count": 16,
   "metadata": {},
   "outputs": [],
   "source": [
    "n_exp = b.filter(lambda record:\n",
    "                 is_expired(record, today)).count().compute()"
   ]
  },
  {
   "cell_type": "code",
   "execution_count": 18,
   "metadata": {},
   "outputs": [
    {
     "data": {
      "text/plain": [
       "0.4791"
      ]
     },
     "execution_count": 18,
     "metadata": {},
     "output_type": "execute_result"
    }
   ],
   "source": [
    "n_exp/N"
   ]
  },
  {
   "cell_type": "markdown",
   "metadata": {},
   "source": [
    "## Question 3"
   ]
  },
  {
   "cell_type": "code",
   "execution_count": 18,
   "metadata": {},
   "outputs": [],
   "source": [
    "b_sample = db.from_sequence(b.take(10))"
   ]
  },
  {
   "cell_type": "code",
   "execution_count": 19,
   "metadata": {},
   "outputs": [
    {
     "data": {
      "text/plain": [
       "[{'age': 52,\n",
       "  'name': ['Zulema', 'Walters'],\n",
       "  'occupation': 'Pools Collector',\n",
       "  'telephone': '949-313-2340',\n",
       "  'address': {'address': '1159 Crestwell Pike', 'city': 'Providence'},\n",
       "  'credit-card': {'number': '3485 248758 62500', 'expiration-date': '04/22'}},\n",
       " {'age': 44,\n",
       "  'name': ['Jorge', 'Klein'],\n",
       "  'occupation': 'Building Control',\n",
       "  'telephone': '1-619-049-6745',\n",
       "  'address': {'address': '1145 Otis Esplanade', 'city': 'Hastings'},\n",
       "  'credit-card': {'number': '5136 9375 5713 6925',\n",
       "   'expiration-date': '08/18'}},\n",
       " {'age': 45,\n",
       "  'name': ['Heriberto', 'Waller'],\n",
       "  'occupation': 'Slaughterman',\n",
       "  'telephone': '047.023.6435',\n",
       "  'address': {'address': '25 Heron Point', 'city': 'Wausau'},\n",
       "  'credit-card': {'number': '5312 6379 9376 4977',\n",
       "   'expiration-date': '05/19'}},\n",
       " {'age': 58,\n",
       "  'name': ['Floria', 'Webb'],\n",
       "  'occupation': 'Blinds Installer',\n",
       "  'telephone': '(580) 532-0571',\n",
       "  'address': {'address': '861 Chancery Bay', 'city': 'Evansville'},\n",
       "  'credit-card': {'number': '5347 1236 4465 6895',\n",
       "   'expiration-date': '11/19'}},\n",
       " {'age': 41,\n",
       "  'name': ['Breana', 'Donaldson'],\n",
       "  'occupation': 'Milkman',\n",
       "  'telephone': '609-878-0670',\n",
       "  'address': {'address': '318 Dawnview Concession road', 'city': 'Cornelius'},\n",
       "  'credit-card': {'number': '3409 619111 85249', 'expiration-date': '02/24'}},\n",
       " {'age': 62,\n",
       "  'name': ['Lisandra', 'Gibbs'],\n",
       "  'occupation': 'Entertainer',\n",
       "  'telephone': '(686) 786-8095',\n",
       "  'address': {'address': '1138 Saul Brae', 'city': 'Whittier'},\n",
       "  'credit-card': {'number': '2238 0372 3559 2864',\n",
       "   'expiration-date': '04/19'}}]"
      ]
     },
     "execution_count": 19,
     "metadata": {},
     "output_type": "execute_result"
    }
   ],
   "source": [
    "b_sample.filter(lambda record:\n",
    "                record['age']>=40 and record['age']<=65).compute()"
   ]
  },
  {
   "cell_type": "code",
   "execution_count": 20,
   "metadata": {},
   "outputs": [
    {
     "data": {
      "text/plain": [
       "['Pools Collector',\n",
       " 'Building Control',\n",
       " 'Slaughterman',\n",
       " 'Blinds Installer',\n",
       " 'Milkman',\n",
       " 'Entertainer']"
      ]
     },
     "execution_count": 20,
     "metadata": {},
     "output_type": "execute_result"
    }
   ],
   "source": [
    "b_sample.filter(lambda record:\n",
    "                record['age']>=40 and record['age']<=65)\\\n",
    "        .map(lambda record: record['occupation']).compute()"
   ]
  },
  {
   "cell_type": "code",
   "execution_count": 64,
   "metadata": {},
   "outputs": [
    {
     "data": {
      "text/plain": [
       "\u001b[0;31mSignature:\u001b[0m \u001b[0mb\u001b[0m\u001b[0;34m.\u001b[0m\u001b[0mfrequencies\u001b[0m\u001b[0;34m(\u001b[0m\u001b[0msplit_every\u001b[0m\u001b[0;34m=\u001b[0m\u001b[0;32mNone\u001b[0m\u001b[0;34m,\u001b[0m \u001b[0msort\u001b[0m\u001b[0;34m=\u001b[0m\u001b[0;32mFalse\u001b[0m\u001b[0;34m)\u001b[0m\u001b[0;34m\u001b[0m\u001b[0;34m\u001b[0m\u001b[0m\n",
       "\u001b[0;31mDocstring:\u001b[0m\n",
       "Count number of occurrences of each distinct element.\n",
       "\n",
       ">>> b = from_sequence(['Alice', 'Bob', 'Alice'])\n",
       ">>> dict(b.frequencies())  # doctest: +SKIP\n",
       "{'Alice': 2, 'Bob', 1}\n",
       "\u001b[0;31mFile:\u001b[0m      ~/.conda/envs/packt_dask/lib/python3.8/site-packages/dask/bag/core.py\n",
       "\u001b[0;31mType:\u001b[0m      method\n"
      ]
     },
     "metadata": {},
     "output_type": "display_data"
    }
   ],
   "source": [
    "b.frequencies?"
   ]
  },
  {
   "cell_type": "code",
   "execution_count": 65,
   "metadata": {},
   "outputs": [
    {
     "data": {
      "text/plain": [
       "[('Pools Collector', 1),\n",
       " ('Building Control', 1),\n",
       " ('Slaughterman', 1),\n",
       " ('Blinds Installer', 1),\n",
       " ('Milkman', 1),\n",
       " ('Entertainer', 1)]"
      ]
     },
     "execution_count": 65,
     "metadata": {},
     "output_type": "execute_result"
    }
   ],
   "source": [
    "b_sample.filter(lambda record:\n",
    "                record['age']>=40 and record['age']<=65)\\\n",
    "        .map(lambda record: record['occupation'])\\\n",
    "        .frequencies(sort=True).compute()"
   ]
  },
  {
   "cell_type": "code",
   "execution_count": 22,
   "metadata": {},
   "outputs": [
    {
     "data": {
      "text/plain": [
       "[('Pools Collector', 1), ('Building Control', 1), ('Slaughterman', 1)]"
      ]
     },
     "execution_count": 22,
     "metadata": {},
     "output_type": "execute_result"
    }
   ],
   "source": [
    "b_sample.filter(lambda record:\n",
    "                record['age']>=40 and record['age']<=65)\\\n",
    "        .map(lambda record: record['occupation'])\\\n",
    "        .frequencies(sort=True)\\\n",
    "        .topk(3, key=1)\\\n",
    "        .compute()"
   ]
  },
  {
   "cell_type": "code",
   "execution_count": 28,
   "metadata": {},
   "outputs": [
    {
     "data": {
      "text/plain": [
       "[('Warehouseman', 17), ('Probation Worker', 13), ('Project Worker', 13)]"
      ]
     },
     "execution_count": 28,
     "metadata": {},
     "output_type": "execute_result"
    }
   ],
   "source": [
    "b.filter(lambda record: record['age']>=40 and record['age']<=65)\\\n",
    " .map(lambda record: record['occupation'])\\\n",
    " .frequencies(sort=True)\\\n",
    " .topk(3, key=1)\\\n",
    " .compute()"
   ]
  },
  {
   "cell_type": "code",
   "execution_count": 29,
   "metadata": {},
   "outputs": [
    {
     "data": {
      "text/plain": [
       "[('Warehouseman', 17), ('Probation Worker', 13), ('Project Worker', 13)]"
      ]
     },
     "execution_count": 29,
     "metadata": {},
     "output_type": "execute_result"
    }
   ],
   "source": [
    "b.filter(lambda record:\n",
    "         record['age']>=40 and record['age']<=65)\\\n",
    " .map(lambda record: record['occupation'])\\\n",
    " .frequencies(sort=True)\\\n",
    " .topk(3, key=1)\\\n",
    " .compute()"
   ]
  },
  {
   "cell_type": "code",
   "execution_count": 30,
   "metadata": {},
   "outputs": [
    {
     "data": {
      "text/plain": [
       "[('Warehouseman', 17), ('Probation Worker', 13), ('Project Worker', 13)]"
      ]
     },
     "execution_count": 30,
     "metadata": {},
     "output_type": "execute_result"
    }
   ],
   "source": [
    "b.filter(lambda record: record['age']>=40 and record['age']<=65)\\\n",
    " .map(lambda record: record['occupation'])\\\n",
    " .frequencies()\\\n",
    " .topk(3, key=1)\\\n",
    " .compute()"
   ]
  },
  {
   "cell_type": "code",
   "execution_count": 32,
   "metadata": {},
   "outputs": [
    {
     "data": {
      "text/plain": [
       "(('Warehouseman', 17), ('Probation Worker', 13), ('Project Worker', 13))"
      ]
     },
     "execution_count": 32,
     "metadata": {},
     "output_type": "execute_result"
    }
   ],
   "source": [
    "b.filter(lambda record: record['age']>=40 and record['age']<=65)\\\n",
    " .map(lambda record: record['occupation'])\\\n",
    " .frequencies(sort=True)\\\n",
    " .take(3)"
   ]
  },
  {
   "cell_type": "code",
   "execution_count": 73,
   "metadata": {},
   "outputs": [
    {
     "data": {
      "text/plain": [
       "[('Sang', 10),\n",
       " ('Mitchell', 9),\n",
       " ('Stephen', 9),\n",
       " ('Timothy', 8),\n",
       " ('Norman', 8),\n",
       " ('Moses', 7),\n",
       " ('Louie', 7),\n",
       " ('Frank', 7),\n",
       " ('Gerald', 7),\n",
       " ('Lorilee', 7)]"
      ]
     },
     "execution_count": 73,
     "metadata": {},
     "output_type": "execute_result"
    }
   ],
   "source": [
    "b.filter(lambda record: record['age']>=40 and record['age']<=65)\\\n",
    " .map(lambda record: record['name'][0])\\\n",
    " .frequencies(sort=True)\\\n",
    " .topk(10, key=1)\\\n",
    " .compute()"
   ]
  },
  {
   "cell_type": "code",
   "execution_count": 25,
   "metadata": {},
   "outputs": [
    {
     "data": {
      "text/plain": [
       "[('Reyes', 14), ('Cooper', 13), ('Roman', 13)]"
      ]
     },
     "execution_count": 25,
     "metadata": {},
     "output_type": "execute_result"
    }
   ],
   "source": [
    "b.filter(lambda record:\n",
    "         record['age']>=40 and record['age']<=65)\\\n",
    " .map(lambda record: record['name'][1])\\\n",
    " .frequencies(sort=True)\\\n",
    " .topk(3, key=1)\\\n",
    " .compute()"
   ]
  },
  {
   "cell_type": "code",
   "execution_count": 26,
   "metadata": {},
   "outputs": [
    {
     "data": {
      "text/plain": [
       "[('Reyes', 14), ('Cooper', 13), ('Roman', 13)]"
      ]
     },
     "execution_count": 26,
     "metadata": {},
     "output_type": "execute_result"
    }
   ],
   "source": [
    "b.filter(lambda record:\n",
    "         record['age']>=40 and record['age']<=65)\\\n",
    " .map(lambda record: record['name'][1])\\\n",
    " .frequencies()\\\n",
    " .topk(3, key=1)\\\n",
    " .compute()"
   ]
  },
  {
   "cell_type": "code",
   "execution_count": 24,
   "metadata": {},
   "outputs": [
    {
     "data": {
      "text/plain": [
       "\u001b[0;31mSignature:\u001b[0m \u001b[0mb\u001b[0m\u001b[0;34m.\u001b[0m\u001b[0mtopk\u001b[0m\u001b[0;34m(\u001b[0m\u001b[0mk\u001b[0m\u001b[0;34m,\u001b[0m \u001b[0mkey\u001b[0m\u001b[0;34m=\u001b[0m\u001b[0;32mNone\u001b[0m\u001b[0;34m,\u001b[0m \u001b[0msplit_every\u001b[0m\u001b[0;34m=\u001b[0m\u001b[0;32mNone\u001b[0m\u001b[0;34m)\u001b[0m\u001b[0;34m\u001b[0m\u001b[0;34m\u001b[0m\u001b[0m\n",
       "\u001b[0;31mDocstring:\u001b[0m\n",
       "K largest elements in collection\n",
       "\n",
       "Optionally ordered by some key function\n",
       "\n",
       ">>> b = from_sequence([10, 3, 5, 7, 11, 4])\n",
       ">>> list(b.topk(2))  # doctest: +SKIP\n",
       "[11, 10]\n",
       "\n",
       ">>> list(b.topk(2, lambda x: -x))  # doctest: +SKIP\n",
       "[3, 4]\n",
       "\u001b[0;31mFile:\u001b[0m      ~/.conda/envs/packt_dask/lib/python3.8/site-packages/dask/bag/core.py\n",
       "\u001b[0;31mType:\u001b[0m      method\n"
      ]
     },
     "metadata": {},
     "output_type": "display_data"
    }
   ],
   "source": [
    "b.topk?"
   ]
  },
  {
   "cell_type": "markdown",
   "metadata": {},
   "source": [
    "# Example Get Data\n",
    "Another possible example is exploit Dask parallelism to recover eartquakes data"
   ]
  },
  {
   "cell_type": "code",
   "execution_count": 3,
   "metadata": {},
   "outputs": [],
   "source": [
    "import os\n",
    "import dask.bag as db\n",
    "import pandas as pd"
   ]
  },
  {
   "cell_type": "code",
   "execution_count": 4,
   "metadata": {},
   "outputs": [],
   "source": [
    "fldr = \"data_earthquakes\"\n",
    "os.makedirs(fldr, exist_ok=True)"
   ]
  },
  {
   "cell_type": "code",
   "execution_count": 5,
   "metadata": {},
   "outputs": [],
   "source": [
    "urls = ['https://en.wikipedia.org/wiki/List_of_earthquakes_in_Italy',\n",
    "        'https://en.wikipedia.org/wiki/List_of_earthquakes_in_Argentina',\n",
    "        'https://en.wikipedia.org/wiki/List_of_earthquakes_in_Chile']"
   ]
  },
  {
   "cell_type": "code",
   "execution_count": 6,
   "metadata": {},
   "outputs": [],
   "source": [
    "url = urls[0]"
   ]
  },
  {
   "cell_type": "code",
   "execution_count": 7,
   "metadata": {},
   "outputs": [],
   "source": [
    "dfs = pd.read_html(url)"
   ]
  },
  {
   "cell_type": "code",
   "execution_count": 19,
   "metadata": {},
   "outputs": [],
   "source": [
    "def get_eartquakes(url, fldr=None):\n",
    "    fn = url.split(\"_\")[-1]+\".csv\"\n",
    "    if fldr is not None:\n",
    "        fn = os.path.join(fldr, fn)\n",
    "    dfs = pd.read_html(url)\n",
    "    for df in dfs:\n",
    "        cols = df.columns\n",
    "        if \"Mag.\" in cols:\n",
    "            df.to_csv(fn, index=False)\n",
    "            break"
   ]
  },
  {
   "cell_type": "code",
   "execution_count": 20,
   "metadata": {},
   "outputs": [],
   "source": [
    "b = db.from_sequence(urls)"
   ]
  },
  {
   "cell_type": "code",
   "execution_count": 22,
   "metadata": {},
   "outputs": [],
   "source": [
    "out = b.map(lambda url: get_eartquakes(url, fldr)).compute()"
   ]
  },
  {
   "cell_type": "code",
   "execution_count": null,
   "metadata": {},
   "outputs": [],
   "source": []
  }
 ],
 "metadata": {
  "kernelspec": {
   "display_name": "packt_dask",
   "language": "python",
   "name": "packt_dask"
  },
  "language_info": {
   "codemirror_mode": {
    "name": "ipython",
    "version": 3
   },
   "file_extension": ".py",
   "mimetype": "text/x-python",
   "name": "python",
   "nbconvert_exporter": "python",
   "pygments_lexer": "ipython3",
   "version": "3.8.6"
  }
 },
 "nbformat": 4,
 "nbformat_minor": 4
}
